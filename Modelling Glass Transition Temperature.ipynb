{
 "cells": [
  {
   "cell_type": "markdown",
   "metadata": {},
   "source": [
    "## Predicting polymer glass transition temperature using neural networks"
   ]
  },
  {
   "cell_type": "markdown",
   "metadata": {},
   "source": [
    "## 1. Import Libraries"
   ]
  },
  {
   "cell_type": "code",
   "execution_count": 1,
   "metadata": {},
   "outputs": [
    {
     "name": "stderr",
     "output_type": "stream",
     "text": [
      "Using TensorFlow backend.\n"
     ]
    }
   ],
   "source": [
    "import pandas as pd\n",
    "import numpy as np\n",
    "import matplotlib.pyplot as plt\n",
    "\n",
    "from rdkit import Chem\n",
    "\n",
    "import keras\n",
    "from keras.models import Sequential\n",
    "from keras.layers import Conv2D, MaxPooling2D, Flatten, Dense, Dropout, BatchNormalization\n",
    "from keras.callbacks import EarlyStopping, ModelCheckpoint"
   ]
  },
  {
   "cell_type": "markdown",
   "metadata": {},
   "source": [
    "## 2. Read file"
   ]
  },
  {
   "cell_type": "code",
   "execution_count": 2,
   "metadata": {},
   "outputs": [
    {
     "name": "stdout",
     "output_type": "stream",
     "text": [
      "(392, 3)\n"
     ]
    },
    {
     "data": {
      "text/html": [
       "<div>\n",
       "<style scoped>\n",
       "    .dataframe tbody tr th:only-of-type {\n",
       "        vertical-align: middle;\n",
       "    }\n",
       "\n",
       "    .dataframe tbody tr th {\n",
       "        vertical-align: top;\n",
       "    }\n",
       "\n",
       "    .dataframe thead th {\n",
       "        text-align: right;\n",
       "    }\n",
       "</style>\n",
       "<table border=\"1\" class=\"dataframe\">\n",
       "  <thead>\n",
       "    <tr style=\"text-align: right;\">\n",
       "      <th></th>\n",
       "      <th>Tg</th>\n",
       "      <th>Molecular Structure</th>\n",
       "      <th>Nomenclature Name</th>\n",
       "    </tr>\n",
       "  </thead>\n",
       "  <tbody>\n",
       "    <tr>\n",
       "      <th>0</th>\n",
       "      <td>279.0</td>\n",
       "      <td>C=CC(=O)OCc1ccccc1</td>\n",
       "      <td>Poly(benzyl acrylate)</td>\n",
       "    </tr>\n",
       "    <tr>\n",
       "      <th>1</th>\n",
       "      <td>383.0</td>\n",
       "      <td>C=CC(=O)Oc2ccc(c1ccccc1)cc2</td>\n",
       "      <td>Poly(4-biphenyl acrylate)</td>\n",
       "    </tr>\n",
       "    <tr>\n",
       "      <th>2</th>\n",
       "      <td>219.0</td>\n",
       "      <td>CCCCOC(=O)C=C</td>\n",
       "      <td>Poly(butyl acrylate)</td>\n",
       "    </tr>\n",
       "    <tr>\n",
       "      <th>3</th>\n",
       "      <td>250.0</td>\n",
       "      <td>CC(OC(=O)C=C)CC</td>\n",
       "      <td>Poly(sec-butyl acrylate)</td>\n",
       "    </tr>\n",
       "    <tr>\n",
       "      <th>4</th>\n",
       "      <td>345.0</td>\n",
       "      <td>C=CC(=O)Oc1ccccc1C(C)(C)C</td>\n",
       "      <td>Poly(2-tertbutylphenyl acrylate)</td>\n",
       "    </tr>\n",
       "    <tr>\n",
       "      <th>5</th>\n",
       "      <td>344.0</td>\n",
       "      <td>C=CC(=O)Oc1ccc(C(C)(C)C)cc1</td>\n",
       "      <td>Poly(4-tertbutylphenyl acrylate)</td>\n",
       "    </tr>\n",
       "    <tr>\n",
       "      <th>6</th>\n",
       "      <td>NaN</td>\n",
       "      <td>NaN</td>\n",
       "      <td>NaN</td>\n",
       "    </tr>\n",
       "    <tr>\n",
       "      <th>7</th>\n",
       "      <td>NaN</td>\n",
       "      <td>NaN</td>\n",
       "      <td>NaN</td>\n",
       "    </tr>\n",
       "    <tr>\n",
       "      <th>8</th>\n",
       "      <td>317.0</td>\n",
       "      <td>C=CC(=O)Oc1ccc(C#N)cc1</td>\n",
       "      <td>Poly(4-cyanobenzyl acrylate)</td>\n",
       "    </tr>\n",
       "    <tr>\n",
       "      <th>9</th>\n",
       "      <td>324.0</td>\n",
       "      <td>C=CC(=O)OCC(C)C#N</td>\n",
       "      <td>Poly(2-cyanoisobutyl acrylate)</td>\n",
       "    </tr>\n",
       "  </tbody>\n",
       "</table>\n",
       "</div>"
      ],
      "text/plain": [
       "      Tg          Molecular Structure                 Nomenclature Name\n",
       "0  279.0           C=CC(=O)OCc1ccccc1             Poly(benzyl acrylate)\n",
       "1  383.0  C=CC(=O)Oc2ccc(c1ccccc1)cc2         Poly(4-biphenyl acrylate)\n",
       "2  219.0                CCCCOC(=O)C=C              Poly(butyl acrylate)\n",
       "3  250.0              CC(OC(=O)C=C)CC          Poly(sec-butyl acrylate)\n",
       "4  345.0    C=CC(=O)Oc1ccccc1C(C)(C)C  Poly(2-tertbutylphenyl acrylate)\n",
       "5  344.0  C=CC(=O)Oc1ccc(C(C)(C)C)cc1  Poly(4-tertbutylphenyl acrylate)\n",
       "6    NaN                          NaN                               NaN\n",
       "7    NaN                          NaN                               NaN\n",
       "8  317.0       C=CC(=O)Oc1ccc(C#N)cc1      Poly(4-cyanobenzyl acrylate)\n",
       "9  324.0            C=CC(=O)OCC(C)C#N    Poly(2-cyanoisobutyl acrylate)"
      ]
     },
     "execution_count": 2,
     "metadata": {},
     "output_type": "execute_result"
    }
   ],
   "source": [
    "df = pd.read_csv('molecules.csv', encoding = 'unicode_escape')\n",
    "print(df.shape)\n",
    "df.head(10)"
   ]
  },
  {
   "cell_type": "markdown",
   "metadata": {},
   "source": [
    "## 3. Clean Data - Check for missing values"
   ]
  },
  {
   "cell_type": "code",
   "execution_count": 3,
   "metadata": {},
   "outputs": [
    {
     "data": {
      "text/html": [
       "<div>\n",
       "<style scoped>\n",
       "    .dataframe tbody tr th:only-of-type {\n",
       "        vertical-align: middle;\n",
       "    }\n",
       "\n",
       "    .dataframe tbody tr th {\n",
       "        vertical-align: top;\n",
       "    }\n",
       "\n",
       "    .dataframe thead th {\n",
       "        text-align: right;\n",
       "    }\n",
       "</style>\n",
       "<table border=\"1\" class=\"dataframe\">\n",
       "  <thead>\n",
       "    <tr style=\"text-align: right;\">\n",
       "      <th></th>\n",
       "      <th>Tg</th>\n",
       "      <th>Molecular Structure</th>\n",
       "      <th>Nomenclature Name</th>\n",
       "    </tr>\n",
       "  </thead>\n",
       "  <tbody>\n",
       "    <tr>\n",
       "      <th>False</th>\n",
       "      <td>352</td>\n",
       "      <td>352</td>\n",
       "      <td>352</td>\n",
       "    </tr>\n",
       "    <tr>\n",
       "      <th>True</th>\n",
       "      <td>40</td>\n",
       "      <td>40</td>\n",
       "      <td>40</td>\n",
       "    </tr>\n",
       "  </tbody>\n",
       "</table>\n",
       "</div>"
      ],
      "text/plain": [
       "        Tg  Molecular Structure  Nomenclature Name\n",
       "False  352                  352                352\n",
       "True    40                   40                 40"
      ]
     },
     "execution_count": 3,
     "metadata": {},
     "output_type": "execute_result"
    }
   ],
   "source": [
    "df.apply(lambda x: x.isna().value_counts())"
   ]
  },
  {
   "cell_type": "code",
   "execution_count": 4,
   "metadata": {},
   "outputs": [
    {
     "data": {
      "text/plain": [
       "(352, 3)"
      ]
     },
     "execution_count": 4,
     "metadata": {},
     "output_type": "execute_result"
    }
   ],
   "source": [
    "df.dropna(how='all', inplace=True)\n",
    "df.shape"
   ]
  },
  {
   "cell_type": "markdown",
   "metadata": {},
   "source": [
    "## 4.0 Molecular structure to Image encoding"
   ]
  },
  {
   "cell_type": "markdown",
   "metadata": {},
   "source": [
    "### 4.1 Create a LIST containing the 'SMILES CODE' of the polymers from the dataframe"
   ]
  },
  {
   "cell_type": "code",
   "execution_count": 5,
   "metadata": {},
   "outputs": [
    {
     "name": "stdout",
     "output_type": "stream",
     "text": [
      "Polymer count: 352\n",
      "['C=CC(=O)OCc1ccccc1', 'C=CC(=O)Oc2ccc(c1ccccc1)cc2', 'CCCCOC(=O)C=C']\n"
     ]
    }
   ],
   "source": [
    "smiles_list = [i for i in df['Molecular Structure']]\n",
    "print('Polymer count:', len(smiles_list))\n",
    "print(smiles_list[:3])"
   ]
  },
  {
   "cell_type": "markdown",
   "metadata": {},
   "source": [
    "### 4.2 Get the length of the largest chain"
   ]
  },
  {
   "cell_type": "code",
   "execution_count": 6,
   "metadata": {},
   "outputs": [
    {
     "data": {
      "text/plain": [
       "65"
      ]
     },
     "execution_count": 6,
     "metadata": {},
     "output_type": "execute_result"
    }
   ],
   "source": [
    "smiles_length = [len(i) for i in smiles_list]\n",
    "smiles_length.sort(reverse=True)\n",
    "smiles_length[0]"
   ]
  },
  {
   "cell_type": "markdown",
   "metadata": {},
   "source": [
    "### 4.3  Create a list containing unique characters that are present in the SMILES string of the polymer "
   ]
  },
  {
   "cell_type": "code",
   "execution_count": 7,
   "metadata": {},
   "outputs": [
    {
     "name": "stdout",
     "output_type": "stream",
     "text": [
      "smiles_char_len: 24\n"
     ]
    }
   ],
   "source": [
    "smiles_char = ['c', 'n', 'o', 'r', 'l','C', 'B','N', 'F', 'Cl', 'Br','O','S','1','2', '3',\n",
    "               '=', '#', '/', ')', '(', '.', ' ', '\\xa0']\n",
    "print('smiles_char_len:', len(smiles_char))"
   ]
  },
  {
   "cell_type": "markdown",
   "metadata": {},
   "source": [
    "### 4.4. Create a char:index dictionary"
   ]
  },
  {
   "cell_type": "code",
   "execution_count": 8,
   "metadata": {},
   "outputs": [
    {
     "name": "stdout",
     "output_type": "stream",
     "text": [
      "{'c': 0, 'n': 1, 'o': 2, 'r': 3, 'l': 4, 'C': 5, 'B': 6, 'N': 7, 'F': 8, 'Cl': 9, 'Br': 10, 'O': 11, 'S': 12, '1': 13, '2': 14, '3': 15, '=': 16, '#': 17, '/': 18, ')': 19, '(': 20, '.': 21, ' ': 22, '\\xa0': 23}\n"
     ]
    }
   ],
   "source": [
    "smiles2index = dict((c,i) for i,c in enumerate(smiles_char))\n",
    "print(smiles2index)"
   ]
  },
  {
   "cell_type": "markdown",
   "metadata": {},
   "source": [
    "### 4.5 Smiles Encoder"
   ]
  },
  {
   "cell_type": "code",
   "execution_count": 9,
   "metadata": {},
   "outputs": [],
   "source": [
    "polymer_count = 352  # from the dataset\n",
    "smiles_max_len = 65 # length of the largest chain\n",
    "smiles_char_len = 24 # length of the smiles character list"
   ]
  },
  {
   "cell_type": "code",
   "execution_count": 10,
   "metadata": {},
   "outputs": [
    {
     "name": "stdout",
     "output_type": "stream",
     "text": [
      "[[0. 0. 0. ... 0. 0. 0.]\n",
      " [0. 0. 0. ... 0. 0. 0.]\n",
      " [0. 0. 0. ... 0. 0. 0.]\n",
      " ...\n",
      " [0. 0. 0. ... 0. 0. 0.]\n",
      " [0. 0. 0. ... 0. 0. 0.]\n",
      " [0. 0. 0. ... 0. 0. 0.]]\n",
      "352\n",
      "(352, 65, 24)\n"
     ]
    }
   ],
   "source": [
    "X = np.zeros((polymer_count, smiles_max_len, smiles_char_len))\n",
    "\n",
    "for index,smile in enumerate(smiles_list):\n",
    "    for idx,char in enumerate(smile):\n",
    "        X[index][idx, smiles2index[char]]=1\n",
    "        \n",
    "print(X[0]) \n",
    "print(len(X))\n",
    "print(X.shape)        "
   ]
  },
  {
   "cell_type": "markdown",
   "metadata": {},
   "source": [
    "### 4.6 Plot the Encoded Image"
   ]
  },
  {
   "cell_type": "code",
   "execution_count": 11,
   "metadata": {},
   "outputs": [
    {
     "data": {
      "image/png": "[encoded data removed]",
      "text/plain": [
       "<Figure size 1080x1080 with 8 Axes>"
      ]
     },
     "metadata": {
      "needs_background": "light"
     },
     "output_type": "display_data"
    }
   ],
   "source": [
    "plt.figure(figsize=(15,15))\n",
    "\n",
    "X_ = X[:8]\n",
    "for i in range(len(X_)):\n",
    "    plt.subplot(2,4,i+1)\n",
    "    plt.title(smiles_list[i])\n",
    "    plt.imshow(X_[i])\n",
    "    "
   ]
  },
  {
   "cell_type": "markdown",
   "metadata": {},
   "source": [
    "## 5.0 Buid Model - CNN"
   ]
  },
  {
   "cell_type": "code",
   "execution_count": 12,
   "metadata": {},
   "outputs": [
    {
     "name": "stdout",
     "output_type": "stream",
     "text": [
      "(352, 65, 24, 1)\n",
      "(352,)\n"
     ]
    }
   ],
   "source": [
    "X = X.reshape(352, 65, 24, 1)\n",
    "y = df['Tg']\n",
    "print(X.shape)\n",
    "print(y.shape)"
   ]
  },
  {
   "cell_type": "code",
   "execution_count": 13,
   "metadata": {},
   "outputs": [],
   "source": [
    "batch_size = 64\n",
    "epochs = 200"
   ]
  },
  {
   "cell_type": "code",
   "execution_count": 14,
   "metadata": {},
   "outputs": [],
   "source": [
    "from sklearn.model_selection import train_test_split\n",
    "\n",
    "X_train, X_test, y_train, y_test = train_test_split(X, y, test_size=0.15, random_state=123)\n"
   ]
  },
  {
   "cell_type": "code",
   "execution_count": 15,
   "metadata": {},
   "outputs": [
    {
     "data": {
      "text/plain": [
       "256    267.0\n",
       "261    297.0\n",
       "287    178.0\n",
       "13     258.0\n",
       "26     249.0\n",
       "368    234.0\n",
       "265    272.0\n",
       "231    438.0\n",
       "133    217.0\n",
       "180    349.0\n",
       "Name: Tg, dtype: float64"
      ]
     },
     "execution_count": 15,
     "metadata": {},
     "output_type": "execute_result"
    }
   ],
   "source": [
    "y_test[:10]"
   ]
  },
  {
   "cell_type": "code",
   "execution_count": 16,
   "metadata": {},
   "outputs": [
    {
     "name": "stdout",
     "output_type": "stream",
     "text": [
      "Model: \"sequential_1\"\n",
      "_________________________________________________________________\n",
      "Layer (type)                 Output Shape              Param #   \n",
      "=================================================================\n",
      "conv2d_1 (Conv2D)            (None, 65, 24, 32)        320       \n",
      "_________________________________________________________________\n",
      "conv2d_2 (Conv2D)            (None, 65, 24, 32)        9248      \n",
      "_________________________________________________________________\n",
      "max_pooling2d_1 (MaxPooling2 (None, 32, 12, 32)        0         \n",
      "_________________________________________________________________\n",
      "conv2d_3 (Conv2D)            (None, 32, 12, 64)        18496     \n",
      "_________________________________________________________________\n",
      "conv2d_4 (Conv2D)            (None, 32, 12, 64)        36928     \n",
      "_________________________________________________________________\n",
      "max_pooling2d_2 (MaxPooling2 (None, 16, 6, 64)         0         \n",
      "_________________________________________________________________\n",
      "flatten_1 (Flatten)          (None, 6144)              0         \n",
      "_________________________________________________________________\n",
      "dense_1 (Dense)              (None, 128)               786560    \n",
      "_________________________________________________________________\n",
      "dense_2 (Dense)              (None, 1)                 129       \n",
      "=================================================================\n",
      "Total params: 851,681\n",
      "Trainable params: 851,681\n",
      "Non-trainable params: 0\n",
      "_________________________________________________________________\n"
     ]
    }
   ],
   "source": [
    "from keras.optimizers import Adam\n",
    "from keras.losses import mean_absolute_error\n",
    "from keras.regularizers import l2\n",
    "\n",
    "model = Sequential()\n",
    "\n",
    "model.add(Conv2D(32, (3,3), activation='relu', kernel_initializer='he_uniform', padding='same',\n",
    "                   kernel_regularizer=l2(0.01), input_shape=(65,24,1)))\n",
    "model.add(Conv2D(32, (3,3), activation='relu', kernel_initializer='he_uniform', padding='same',\n",
    "              kernel_regularizer=l2(0.01)))\n",
    "model.add(MaxPooling2D((2,2)))\n",
    "\n",
    "\n",
    "model.add(Conv2D(64, (3,3), activation='relu', kernel_initializer='he_uniform', padding='same',\n",
    "                kernel_regularizer=l2(0.01))) \n",
    "model.add(Conv2D(64, (3,3), activation='relu', kernel_initializer='he_uniform', padding='same',\n",
    "               kernel_regularizer=l2(0.01)))\n",
    "model.add(MaxPooling2D((2,2)))\n",
    "\n",
    "model.add(Flatten())  \n",
    "\n",
    "model.add(Dense(128, activation='relu', kernel_initializer='he_uniform', kernel_regularizer=l2(0.01)))\n",
    "\n",
    "model.add(Dense(1))\n",
    "\n",
    "model.summary()          "
   ]
  },
  {
   "cell_type": "code",
   "execution_count": 17,
   "metadata": {},
   "outputs": [
    {
     "name": "stdout",
     "output_type": "stream",
     "text": [
      "Train on 269 samples, validate on 30 samples\n",
      "Epoch 1/200\n",
      "269/269 [==============================] - 2s 6ms/step - loss: 508.7928 - val_loss: 281.8488\n",
      "Epoch 2/200\n",
      "269/269 [==============================] - 1s 5ms/step - loss: 299.5107 - val_loss: 283.4161\n",
      "Epoch 3/200\n",
      "269/269 [==============================] - 1s 5ms/step - loss: 285.2917 - val_loss: 217.2736\n",
      "Epoch 4/200\n",
      "269/269 [==============================] - 1s 5ms/step - loss: 159.3161 - val_loss: 101.8142\n",
      "Epoch 5/200\n",
      "269/269 [==============================] - 1s 5ms/step - loss: 95.6859 - val_loss: 85.1157\n",
      "Epoch 6/200\n",
      "269/269 [==============================] - 1s 5ms/step - loss: 77.9062 - val_loss: 68.1228\n",
      "Epoch 7/200\n",
      "269/269 [==============================] - 1s 5ms/step - loss: 71.4315 - val_loss: 68.1243\n",
      "Epoch 8/200\n",
      "269/269 [==============================] - 1s 5ms/step - loss: 68.0489 - val_loss: 69.9266\n",
      "Epoch 9/200\n",
      "269/269 [==============================] - 1s 5ms/step - loss: 63.7316 - val_loss: 58.4694\n",
      "Epoch 10/200\n",
      "269/269 [==============================] - 1s 5ms/step - loss: 61.1602 - val_loss: 57.5860\n",
      "Epoch 11/200\n",
      "269/269 [==============================] - 1s 5ms/step - loss: 57.9335 - val_loss: 50.3739\n",
      "Epoch 12/200\n",
      "269/269 [==============================] - 1s 5ms/step - loss: 54.7382 - val_loss: 48.6726\n",
      "Epoch 13/200\n",
      "269/269 [==============================] - 1s 5ms/step - loss: 49.1543 - val_loss: 47.4852\n",
      "Epoch 14/200\n",
      "269/269 [==============================] - 1s 5ms/step - loss: 46.7500 - val_loss: 51.5003\n",
      "Epoch 15/200\n",
      "269/269 [==============================] - 1s 5ms/step - loss: 47.5285 - val_loss: 44.9228\n",
      "Epoch 16/200\n",
      "269/269 [==============================] - 1s 5ms/step - loss: 42.3121 - val_loss: 45.8998\n",
      "Epoch 17/200\n",
      "269/269 [==============================] - 1s 5ms/step - loss: 41.6307 - val_loss: 46.6527\n",
      "Epoch 18/200\n",
      "269/269 [==============================] - 1s 5ms/step - loss: 41.6858 - val_loss: 45.7955\n",
      "Epoch 19/200\n",
      "269/269 [==============================] - 1s 5ms/step - loss: 43.0294 - val_loss: 47.7986\n",
      "Epoch 20/200\n",
      "269/269 [==============================] - 1s 5ms/step - loss: 46.9667 - val_loss: 63.5135\n",
      "Epoch 21/200\n",
      "269/269 [==============================] - 1s 5ms/step - loss: 53.7238 - val_loss: 43.1638\n",
      "Epoch 22/200\n",
      "269/269 [==============================] - 1s 5ms/step - loss: 43.1759 - val_loss: 55.3344\n",
      "Epoch 23/200\n",
      "269/269 [==============================] - 1s 5ms/step - loss: 51.7305 - val_loss: 42.5482\n",
      "Epoch 24/200\n",
      "269/269 [==============================] - 1s 5ms/step - loss: 46.0580 - val_loss: 49.4291\n",
      "Epoch 25/200\n",
      "269/269 [==============================] - 1s 5ms/step - loss: 46.8309 - val_loss: 44.9022\n",
      "Epoch 26/200\n",
      "269/269 [==============================] - 1s 5ms/step - loss: 44.2868 - val_loss: 41.7462\n",
      "Epoch 27/200\n",
      "269/269 [==============================] - 1s 5ms/step - loss: 44.6614 - val_loss: 46.0820\n",
      "Epoch 28/200\n",
      "269/269 [==============================] - 1s 5ms/step - loss: 41.0176 - val_loss: 37.6122\n",
      "Epoch 29/200\n",
      "269/269 [==============================] - 1s 5ms/step - loss: 36.9411 - val_loss: 37.6319\n",
      "Epoch 30/200\n",
      "269/269 [==============================] - 1s 5ms/step - loss: 35.8335 - val_loss: 36.6042\n",
      "Epoch 31/200\n",
      "269/269 [==============================] - 1s 5ms/step - loss: 35.3913 - val_loss: 36.5974\n",
      "Epoch 32/200\n",
      "269/269 [==============================] - 1s 5ms/step - loss: 34.9549 - val_loss: 36.9678\n",
      "Epoch 33/200\n",
      "269/269 [==============================] - 1s 5ms/step - loss: 33.7909 - val_loss: 41.9022\n",
      "Epoch 34/200\n",
      "269/269 [==============================] - 1s 5ms/step - loss: 37.3818 - val_loss: 33.0067\n",
      "Epoch 35/200\n",
      "269/269 [==============================] - 1s 5ms/step - loss: 32.4679 - val_loss: 35.2594\n",
      "Epoch 36/200\n",
      "269/269 [==============================] - 1s 5ms/step - loss: 33.7693 - val_loss: 34.2658\n",
      "Epoch 37/200\n",
      "269/269 [==============================] - 1s 5ms/step - loss: 32.1309 - val_loss: 34.1349\n",
      "Epoch 38/200\n",
      "269/269 [==============================] - 1s 5ms/step - loss: 35.0262 - val_loss: 43.6501\n",
      "Epoch 39/200\n",
      "269/269 [==============================] - 1s 5ms/step - loss: 44.7955 - val_loss: 36.2143\n",
      "Epoch 40/200\n",
      "269/269 [==============================] - 1s 5ms/step - loss: 41.4570 - val_loss: 49.8735\n",
      "Epoch 41/200\n",
      "269/269 [==============================] - 1s 5ms/step - loss: 40.0896 - val_loss: 28.9140\n",
      "Epoch 42/200\n",
      "269/269 [==============================] - 1s 5ms/step - loss: 34.0285 - val_loss: 30.4112\n",
      "Epoch 43/200\n",
      "269/269 [==============================] - 1s 5ms/step - loss: 30.9083 - val_loss: 29.1927\n",
      "Epoch 44/200\n",
      "269/269 [==============================] - 1s 5ms/step - loss: 31.2777 - val_loss: 34.8599\n",
      "Epoch 45/200\n",
      "269/269 [==============================] - 1s 5ms/step - loss: 36.0372 - val_loss: 27.0358\n",
      "Epoch 46/200\n",
      "269/269 [==============================] - 1s 5ms/step - loss: 28.1172 - val_loss: 27.1185\n",
      "Epoch 47/200\n",
      "269/269 [==============================] - 1s 5ms/step - loss: 26.6279 - val_loss: 26.8008\n",
      "Epoch 48/200\n",
      "269/269 [==============================] - 1s 5ms/step - loss: 27.5817 - val_loss: 27.7372\n",
      "Epoch 49/200\n",
      "269/269 [==============================] - 1s 5ms/step - loss: 26.9122 - val_loss: 27.7175\n",
      "Epoch 50/200\n",
      "269/269 [==============================] - 1s 5ms/step - loss: 28.0004 - val_loss: 24.6497\n",
      "Epoch 51/200\n",
      "269/269 [==============================] - 1s 5ms/step - loss: 25.7240 - val_loss: 24.4717\n",
      "Epoch 52/200\n",
      "269/269 [==============================] - 2s 6ms/step - loss: 24.9657 - val_loss: 22.0160\n",
      "Epoch 53/200\n",
      "269/269 [==============================] - 1s 5ms/step - loss: 23.9582 - val_loss: 24.7405\n",
      "Epoch 54/200\n",
      "269/269 [==============================] - 1s 5ms/step - loss: 24.4513 - val_loss: 27.4139\n",
      "Epoch 55/200\n",
      "269/269 [==============================] - 1s 5ms/step - loss: 26.0961 - val_loss: 36.0589\n",
      "Epoch 56/200\n",
      "269/269 [==============================] - 1s 5ms/step - loss: 35.1426 - val_loss: 23.6098\n",
      "Epoch 57/200\n",
      "269/269 [==============================] - 1s 5ms/step - loss: 30.8002 - val_loss: 22.3915\n",
      "Epoch 58/200\n",
      "269/269 [==============================] - 1s 5ms/step - loss: 26.6264 - val_loss: 32.1224\n",
      "Epoch 59/200\n",
      "269/269 [==============================] - 1s 5ms/step - loss: 30.0466 - val_loss: 36.7703\n",
      "Epoch 60/200\n",
      "269/269 [==============================] - 1s 5ms/step - loss: 30.2339 - val_loss: 34.1926\n",
      "Epoch 61/200\n",
      "269/269 [==============================] - 1s 5ms/step - loss: 31.9150 - val_loss: 50.8871\n",
      "Epoch 62/200\n",
      "269/269 [==============================] - 1s 5ms/step - loss: 39.4928 - val_loss: 34.9900\n",
      "Epoch 63/200\n",
      "269/269 [==============================] - 1s 5ms/step - loss: 31.0702 - val_loss: 27.9966\n",
      "Epoch 64/200\n",
      "269/269 [==============================] - 1s 5ms/step - loss: 31.9115 - val_loss: 32.9179\n",
      "Epoch 65/200\n",
      "269/269 [==============================] - 1s 5ms/step - loss: 31.5144 - val_loss: 29.3637\n",
      "Epoch 66/200\n",
      "269/269 [==============================] - 1s 5ms/step - loss: 26.4825 - val_loss: 26.9623\n",
      "Epoch 67/200\n",
      "269/269 [==============================] - 1s 5ms/step - loss: 24.8921 - val_loss: 23.6512\n",
      "Epoch 68/200\n",
      "269/269 [==============================] - 1s 5ms/step - loss: 25.9730 - val_loss: 22.4280\n",
      "Epoch 69/200\n",
      "269/269 [==============================] - 1s 5ms/step - loss: 21.6435 - val_loss: 22.0867\n",
      "Epoch 70/200\n",
      "269/269 [==============================] - 1s 5ms/step - loss: 21.8745 - val_loss: 25.9051\n",
      "Epoch 71/200\n",
      "269/269 [==============================] - 1s 5ms/step - loss: 22.7138 - val_loss: 31.2368\n",
      "Epoch 72/200\n",
      "269/269 [==============================] - 1s 5ms/step - loss: 24.0683 - val_loss: 29.7343\n",
      "Epoch 73/200\n",
      "269/269 [==============================] - 1s 5ms/step - loss: 25.7499 - val_loss: 22.7899\n",
      "Epoch 74/200\n",
      "269/269 [==============================] - 1s 5ms/step - loss: 20.9495 - val_loss: 26.3037\n",
      "Epoch 75/200\n",
      "269/269 [==============================] - 1s 5ms/step - loss: 22.0623 - val_loss: 21.4902\n",
      "Epoch 76/200\n",
      "269/269 [==============================] - 1s 5ms/step - loss: 22.3453 - val_loss: 23.0625\n",
      "Epoch 77/200\n",
      "269/269 [==============================] - 1s 5ms/step - loss: 21.9198 - val_loss: 23.2264\n",
      "Epoch 78/200\n",
      "269/269 [==============================] - 1s 5ms/step - loss: 21.6582 - val_loss: 25.1370\n",
      "Epoch 79/200\n",
      "269/269 [==============================] - 1s 5ms/step - loss: 24.1808 - val_loss: 23.4038\n",
      "Epoch 80/200\n",
      "269/269 [==============================] - 1s 5ms/step - loss: 21.2128 - val_loss: 21.3199\n",
      "Epoch 81/200\n",
      "269/269 [==============================] - 1s 5ms/step - loss: 21.4214 - val_loss: 21.3341\n",
      "Epoch 82/200\n",
      "269/269 [==============================] - 1s 5ms/step - loss: 18.6973 - val_loss: 23.9310\n",
      "Epoch 83/200\n",
      "269/269 [==============================] - 1s 5ms/step - loss: 21.1640 - val_loss: 25.4416\n",
      "Epoch 84/200\n",
      "269/269 [==============================] - 1s 5ms/step - loss: 24.3930 - val_loss: 22.7755\n",
      "Epoch 85/200\n",
      "269/269 [==============================] - 1s 5ms/step - loss: 20.5374 - val_loss: 23.9985\n",
      "Epoch 86/200\n",
      "269/269 [==============================] - 1s 5ms/step - loss: 18.5215 - val_loss: 21.6093\n",
      "Epoch 87/200\n",
      "269/269 [==============================] - 1s 5ms/step - loss: 19.1302 - val_loss: 21.3087\n",
      "Epoch 88/200\n",
      "269/269 [==============================] - 1s 5ms/step - loss: 18.1346 - val_loss: 21.9776\n",
      "Epoch 89/200\n",
      "269/269 [==============================] - 1s 5ms/step - loss: 17.7051 - val_loss: 22.6029\n",
      "Epoch 90/200\n",
      "269/269 [==============================] - 1s 5ms/step - loss: 16.8354 - val_loss: 19.8588\n",
      "Epoch 91/200\n",
      "269/269 [==============================] - 1s 5ms/step - loss: 17.0078 - val_loss: 20.6536\n",
      "Epoch 92/200\n",
      "269/269 [==============================] - 1s 5ms/step - loss: 18.8295 - val_loss: 34.9490\n",
      "Epoch 93/200\n",
      "269/269 [==============================] - 1s 5ms/step - loss: 22.1890 - val_loss: 19.6588\n",
      "Epoch 94/200\n",
      "269/269 [==============================] - 1s 5ms/step - loss: 17.2509 - val_loss: 20.1591\n",
      "Epoch 95/200\n",
      "269/269 [==============================] - 1s 5ms/step - loss: 16.9878 - val_loss: 21.4517\n",
      "Epoch 96/200\n",
      "269/269 [==============================] - 1s 5ms/step - loss: 16.6998 - val_loss: 20.0032\n",
      "Epoch 97/200\n",
      "269/269 [==============================] - 1s 5ms/step - loss: 16.7514 - val_loss: 19.5824\n",
      "Epoch 98/200\n",
      "269/269 [==============================] - 1s 5ms/step - loss: 15.4234 - val_loss: 20.6774\n",
      "Epoch 99/200\n",
      "269/269 [==============================] - 1s 5ms/step - loss: 15.8576 - val_loss: 20.6897\n",
      "Epoch 100/200\n",
      "269/269 [==============================] - 1s 5ms/step - loss: 15.2187 - val_loss: 30.2205\n",
      "Epoch 101/200\n",
      "269/269 [==============================] - 2s 6ms/step - loss: 27.3764 - val_loss: 30.1491\n",
      "Epoch 102/200\n",
      "269/269 [==============================] - 2s 6ms/step - loss: 21.8795 - val_loss: 22.5094\n",
      "Epoch 103/200\n",
      "269/269 [==============================] - 1s 5ms/step - loss: 18.8217 - val_loss: 21.6616\n",
      "Epoch 104/200\n",
      "269/269 [==============================] - 1s 6ms/step - loss: 16.6955 - val_loss: 18.4748\n",
      "Epoch 105/200\n",
      "269/269 [==============================] - 1s 5ms/step - loss: 15.6827 - val_loss: 20.2615\n",
      "Epoch 106/200\n",
      "269/269 [==============================] - 1s 5ms/step - loss: 15.1807 - val_loss: 19.8521\n",
      "Epoch 107/200\n",
      "269/269 [==============================] - 1s 5ms/step - loss: 15.8945 - val_loss: 27.6581\n",
      "Epoch 108/200\n",
      "269/269 [==============================] - 1s 5ms/step - loss: 19.1742 - val_loss: 25.1060\n",
      "Epoch 109/200\n",
      "269/269 [==============================] - 1s 5ms/step - loss: 26.6368 - val_loss: 24.3334\n",
      "Epoch 110/200\n",
      "269/269 [==============================] - 1s 5ms/step - loss: 23.2891 - val_loss: 23.1609\n",
      "Epoch 111/200\n",
      "269/269 [==============================] - 1s 5ms/step - loss: 24.1131 - val_loss: 21.1864\n",
      "Epoch 112/200\n",
      "269/269 [==============================] - 1s 5ms/step - loss: 20.1800 - val_loss: 21.4696\n",
      "Epoch 113/200\n",
      "269/269 [==============================] - 1s 5ms/step - loss: 17.4405 - val_loss: 23.5157\n",
      "Epoch 114/200\n",
      "269/269 [==============================] - 1s 5ms/step - loss: 18.7060 - val_loss: 21.9187\n",
      "Epoch 115/200\n",
      "269/269 [==============================] - 1s 5ms/step - loss: 20.6201 - val_loss: 20.1594\n",
      "Epoch 116/200\n",
      "269/269 [==============================] - 1s 5ms/step - loss: 17.0282 - val_loss: 24.8173\n",
      "Epoch 117/200\n",
      "269/269 [==============================] - 1s 5ms/step - loss: 15.3862 - val_loss: 21.0260\n",
      "Epoch 118/200\n",
      "269/269 [==============================] - 1s 5ms/step - loss: 13.8133 - val_loss: 25.3048\n",
      "Epoch 119/200\n",
      "269/269 [==============================] - 1s 5ms/step - loss: 17.9603 - val_loss: 19.6462\n",
      "Epoch 120/200\n",
      "269/269 [==============================] - 1s 5ms/step - loss: 22.5210 - val_loss: 20.8596\n",
      "Epoch 121/200\n",
      "269/269 [==============================] - 1s 5ms/step - loss: 19.1332 - val_loss: 31.0243\n",
      "Epoch 122/200\n",
      "269/269 [==============================] - 1s 5ms/step - loss: 23.4358 - val_loss: 26.4130\n",
      "Epoch 123/200\n",
      "269/269 [==============================] - 1s 5ms/step - loss: 20.9385 - val_loss: 30.0749\n",
      "Epoch 124/200\n",
      "269/269 [==============================] - 1s 5ms/step - loss: 23.3567 - val_loss: 33.7426\n",
      "Epoch 125/200\n",
      "269/269 [==============================] - 1s 5ms/step - loss: 28.4259 - val_loss: 25.7303\n",
      "Epoch 126/200\n",
      "269/269 [==============================] - 1s 5ms/step - loss: 17.1288 - val_loss: 21.7094\n",
      "Epoch 127/200\n",
      "269/269 [==============================] - 1s 5ms/step - loss: 16.7258 - val_loss: 20.5836\n",
      "Epoch 128/200\n",
      "269/269 [==============================] - 1s 5ms/step - loss: 17.0629 - val_loss: 38.0558\n",
      "Epoch 129/200\n",
      "269/269 [==============================] - 1s 5ms/step - loss: 22.1584 - val_loss: 43.4672\n",
      "Epoch 130/200\n",
      "269/269 [==============================] - 1s 5ms/step - loss: 26.2753 - val_loss: 33.4403\n",
      "Epoch 131/200\n",
      "269/269 [==============================] - 1s 5ms/step - loss: 24.0806 - val_loss: 24.1509\n",
      "Epoch 132/200\n",
      "269/269 [==============================] - 1s 5ms/step - loss: 16.6018 - val_loss: 18.5270\n",
      "Epoch 133/200\n",
      "269/269 [==============================] - 1s 5ms/step - loss: 14.8018 - val_loss: 21.0528\n",
      "Epoch 134/200\n",
      "269/269 [==============================] - 1s 5ms/step - loss: 15.4823 - val_loss: 22.2402\n",
      "Epoch 135/200\n",
      "269/269 [==============================] - 1s 5ms/step - loss: 14.1399 - val_loss: 16.8667\n",
      "Epoch 136/200\n",
      "269/269 [==============================] - 1s 5ms/step - loss: 12.4008 - val_loss: 18.7450\n",
      "Epoch 137/200\n",
      "269/269 [==============================] - 1s 5ms/step - loss: 14.7856 - val_loss: 23.7373\n",
      "Epoch 138/200\n",
      "269/269 [==============================] - 1s 5ms/step - loss: 16.0451 - val_loss: 26.7177\n",
      "Epoch 139/200\n",
      "269/269 [==============================] - 1s 5ms/step - loss: 21.9042 - val_loss: 23.2049\n",
      "Epoch 140/200\n",
      "269/269 [==============================] - 1s 5ms/step - loss: 16.7703 - val_loss: 23.3348\n",
      "Epoch 141/200\n",
      "269/269 [==============================] - 1s 5ms/step - loss: 15.7816 - val_loss: 19.7737\n",
      "Epoch 142/200\n",
      "269/269 [==============================] - 1s 5ms/step - loss: 14.3660 - val_loss: 18.7761\n",
      "Epoch 143/200\n",
      "269/269 [==============================] - 1s 5ms/step - loss: 11.4122 - val_loss: 21.9921\n",
      "Epoch 144/200\n",
      "269/269 [==============================] - 1s 5ms/step - loss: 11.6079 - val_loss: 25.8915\n",
      "Epoch 145/200\n",
      "269/269 [==============================] - 1s 5ms/step - loss: 14.5639 - val_loss: 19.4261\n",
      "Epoch 146/200\n",
      "269/269 [==============================] - 1s 5ms/step - loss: 12.6016 - val_loss: 25.6009\n",
      "Epoch 147/200\n",
      "269/269 [==============================] - 1s 5ms/step - loss: 19.0168 - val_loss: 29.4147\n",
      "Epoch 148/200\n",
      "269/269 [==============================] - 1s 5ms/step - loss: 18.5682 - val_loss: 20.6607\n",
      "Epoch 149/200\n",
      "269/269 [==============================] - 1s 5ms/step - loss: 13.2202 - val_loss: 19.5411\n",
      "Epoch 150/200\n",
      "269/269 [==============================] - 1s 5ms/step - loss: 12.0545 - val_loss: 22.6215\n",
      "Epoch 151/200\n",
      "269/269 [==============================] - 1s 5ms/step - loss: 17.7301 - val_loss: 22.1686\n",
      "Epoch 152/200\n",
      "269/269 [==============================] - 1s 5ms/step - loss: 17.1902 - val_loss: 29.0747\n",
      "Epoch 153/200\n",
      "269/269 [==============================] - 1s 5ms/step - loss: 21.0652 - val_loss: 31.1638\n",
      "Epoch 154/200\n",
      "269/269 [==============================] - 1s 5ms/step - loss: 23.4751 - val_loss: 28.3804\n",
      "Epoch 155/200\n",
      "269/269 [==============================] - 1s 5ms/step - loss: 19.6053 - val_loss: 24.7079\n",
      "Epoch 156/200\n",
      "269/269 [==============================] - 1s 5ms/step - loss: 15.9095 - val_loss: 19.0314\n",
      "Epoch 157/200\n"
     ]
    },
    {
     "name": "stdout",
     "output_type": "stream",
     "text": [
      "269/269 [==============================] - 1s 5ms/step - loss: 14.4313 - val_loss: 18.4560\n",
      "Epoch 158/200\n",
      "269/269 [==============================] - 1s 5ms/step - loss: 17.2592 - val_loss: 27.2757\n",
      "Epoch 159/200\n",
      "269/269 [==============================] - 1s 5ms/step - loss: 20.1346 - val_loss: 28.6036\n",
      "Epoch 160/200\n",
      "269/269 [==============================] - 1s 5ms/step - loss: 18.0493 - val_loss: 27.5709\n",
      "Epoch 161/200\n",
      "269/269 [==============================] - 1s 5ms/step - loss: 16.8388 - val_loss: 19.4635\n",
      "Epoch 162/200\n",
      "269/269 [==============================] - 1s 5ms/step - loss: 11.4621 - val_loss: 18.9152\n",
      "Epoch 163/200\n",
      "269/269 [==============================] - 1s 5ms/step - loss: 11.6584 - val_loss: 22.6595\n",
      "Epoch 164/200\n",
      "269/269 [==============================] - 1s 5ms/step - loss: 17.9740 - val_loss: 23.7289\n",
      "Epoch 165/200\n",
      "269/269 [==============================] - 1s 5ms/step - loss: 14.8115 - val_loss: 20.4980\n",
      "Epoch 166/200\n",
      "269/269 [==============================] - 1s 5ms/step - loss: 11.5293 - val_loss: 17.6689\n",
      "Epoch 167/200\n",
      "269/269 [==============================] - 1s 5ms/step - loss: 11.0914 - val_loss: 21.5630\n",
      "Epoch 168/200\n",
      "269/269 [==============================] - 1s 5ms/step - loss: 13.3152 - val_loss: 24.1467\n",
      "Epoch 169/200\n",
      "269/269 [==============================] - 1s 5ms/step - loss: 19.2332 - val_loss: 31.5802\n",
      "Epoch 170/200\n",
      "269/269 [==============================] - 1s 5ms/step - loss: 26.7031 - val_loss: 25.0433\n",
      "Epoch 171/200\n",
      "269/269 [==============================] - 1s 5ms/step - loss: 18.3843 - val_loss: 27.8044\n",
      "Epoch 172/200\n",
      "269/269 [==============================] - 1s 5ms/step - loss: 19.4188 - val_loss: 24.7984\n",
      "Epoch 173/200\n",
      "269/269 [==============================] - 1s 5ms/step - loss: 17.5982 - val_loss: 24.5541\n",
      "Epoch 174/200\n",
      "269/269 [==============================] - 1s 5ms/step - loss: 15.3505 - val_loss: 18.4452\n",
      "Epoch 175/200\n",
      "269/269 [==============================] - 1s 5ms/step - loss: 16.4503 - val_loss: 26.7373\n",
      "Epoch 176/200\n",
      "269/269 [==============================] - 1s 5ms/step - loss: 20.1739 - val_loss: 32.7744\n",
      "Epoch 177/200\n",
      "269/269 [==============================] - 1s 5ms/step - loss: 23.6909 - val_loss: 22.2824\n",
      "Epoch 178/200\n",
      "269/269 [==============================] - 1s 5ms/step - loss: 16.5515 - val_loss: 28.5810\n",
      "Epoch 179/200\n",
      "269/269 [==============================] - 1s 5ms/step - loss: 18.4411 - val_loss: 31.5325\n",
      "Epoch 180/200\n",
      "269/269 [==============================] - 1s 5ms/step - loss: 21.8850 - val_loss: 27.8401\n",
      "Epoch 181/200\n",
      "269/269 [==============================] - 1s 5ms/step - loss: 19.0411 - val_loss: 23.7562\n",
      "Epoch 182/200\n",
      "269/269 [==============================] - 1s 5ms/step - loss: 15.2065 - val_loss: 26.8507\n",
      "Epoch 183/200\n",
      "269/269 [==============================] - 1s 5ms/step - loss: 16.7436 - val_loss: 27.3423\n",
      "Epoch 184/200\n",
      "269/269 [==============================] - 1s 5ms/step - loss: 15.3798 - val_loss: 18.7641\n",
      "Epoch 185/200\n",
      "269/269 [==============================] - 1s 5ms/step - loss: 12.1449 - val_loss: 29.9950\n",
      "Epoch 186/200\n",
      "269/269 [==============================] - 1s 5ms/step - loss: 18.0580 - val_loss: 24.5031\n",
      "Epoch 187/200\n",
      "269/269 [==============================] - 1s 5ms/step - loss: 13.3386 - val_loss: 20.4662\n",
      "Epoch 188/200\n",
      "269/269 [==============================] - 1s 5ms/step - loss: 12.0510 - val_loss: 23.0753\n",
      "Epoch 189/200\n",
      "269/269 [==============================] - 1s 5ms/step - loss: 13.5927 - val_loss: 20.1064\n",
      "Epoch 190/200\n",
      "269/269 [==============================] - 1s 5ms/step - loss: 16.5691 - val_loss: 19.8101\n",
      "Epoch 191/200\n",
      "269/269 [==============================] - 1s 5ms/step - loss: 14.7881 - val_loss: 18.8788\n",
      "Epoch 192/200\n",
      "269/269 [==============================] - 1s 5ms/step - loss: 10.1677 - val_loss: 18.8875\n",
      "Epoch 193/200\n",
      "269/269 [==============================] - 1s 5ms/step - loss: 11.6946 - val_loss: 18.1607\n",
      "Epoch 194/200\n",
      "269/269 [==============================] - 1s 5ms/step - loss: 13.4649 - val_loss: 18.7009\n",
      "Epoch 195/200\n",
      "269/269 [==============================] - 1s 5ms/step - loss: 9.2920 - val_loss: 21.0012\n",
      "Epoch 196/200\n",
      "269/269 [==============================] - 1s 5ms/step - loss: 11.5403 - val_loss: 18.0504\n",
      "Epoch 197/200\n",
      "269/269 [==============================] - 1s 5ms/step - loss: 9.9836 - val_loss: 17.6765\n",
      "Epoch 198/200\n",
      "269/269 [==============================] - 1s 5ms/step - loss: 11.6899 - val_loss: 19.9934\n",
      "Epoch 199/200\n",
      "269/269 [==============================] - 1s 5ms/step - loss: 12.5904 - val_loss: 19.7699\n",
      "Epoch 200/200\n",
      "269/269 [==============================] - 1s 5ms/step - loss: 10.7244 - val_loss: 16.9615\n"
     ]
    }
   ],
   "source": [
    "optimizer=Adam(lr=0.01)\n",
    "#optimizer=SGD(lr=0.01)\n",
    "\n",
    "model.compile(optimizer=optimizer, loss='mean_absolute_error')\n",
    "\n",
    "model_cnn=model.fit(X_train, y_train,\n",
    "                 batch_size=batch_size,\n",
    "                 epochs=epochs,\n",
    "                 validation_split=0.1)"
   ]
  },
  {
   "cell_type": "markdown",
   "metadata": {},
   "source": [
    "## 6.0 Plot Learning Curve"
   ]
  },
  {
   "cell_type": "code",
   "execution_count": 18,
   "metadata": {},
   "outputs": [
    {
     "data": {
      "image/png": "[encoded data removed]",
      "text/plain": [
       "<Figure size 864x504 with 1 Axes>"
      ]
     },
     "metadata": {
      "needs_background": "light"
     },
     "output_type": "display_data"
    }
   ],
   "source": [
    "plt.figure(figsize=(12,7))\n",
    "plt.title('Learning Curve')\n",
    "plt.plot(model_cnn.history['loss'], marker='.', markersize=10,label='Training Loss')\n",
    "plt.plot(model_cnn.history['val_loss'], marker='.',markersize=10, label='Validation Loss')\n",
    "plt.xlabel('Number of Epochs')\n",
    "plt.ylabel('Loss')\n",
    "plt.legend()\n",
    "plt.show()"
   ]
  },
  {
   "cell_type": "markdown",
   "metadata": {},
   "source": [
    "## 7.0 Evaluate Model"
   ]
  },
  {
   "cell_type": "code",
   "execution_count": 19,
   "metadata": {},
   "outputs": [
    {
     "name": "stdout",
     "output_type": "stream",
     "text": [
      "53/53 [==============================] - 0s 2ms/step\n",
      "27.867318207362914\n"
     ]
    }
   ],
   "source": [
    "score=model.evaluate(X_test, y_test)\n",
    "print(score)"
   ]
  },
  {
   "cell_type": "markdown",
   "metadata": {},
   "source": [
    "## 8.0 Predictions"
   ]
  },
  {
   "cell_type": "code",
   "execution_count": 20,
   "metadata": {},
   "outputs": [],
   "source": [
    "y_train_pred = model.predict(X_train)\n",
    "y_test_pred =  model.predict(X_test)"
   ]
  },
  {
   "cell_type": "code",
   "execution_count": 21,
   "metadata": {},
   "outputs": [
    {
     "name": "stdout",
     "output_type": "stream",
     "text": [
      "Train Data Mean Absolute Error: [6.70934018]\n",
      "Test Data Mean Absolute Error: [23.80471456]\n"
     ]
    }
   ],
   "source": [
    "MAE_train = abs(y_train_pred.reshape(y_train.shape) - y_train).sum()/y_train.shape\n",
    "MAE_test = abs(y_test_pred.reshape(y_test.shape) - y_test).sum()/y_test.shape\n",
    "print('Train Data Mean Absolute Error:', MAE_train)\n",
    "print('Test Data Mean Absolute Error:', MAE_test)"
   ]
  },
  {
   "cell_type": "markdown",
   "metadata": {},
   "source": [
    "## 9.0 Comparison plot predicted Vs true Tg for Train and Test data"
   ]
  },
  {
   "cell_type": "code",
   "execution_count": 22,
   "metadata": {},
   "outputs": [
    {
     "data": {
      "text/plain": [
       "[Text(0.5, 0, 'True Tg'), Text(0, 0.5, 'Predicted Tg')]"
      ]
     },
     "execution_count": 22,
     "metadata": {},
     "output_type": "execute_result"
    },
    {
     "data": {
      "image/png": "[encoded data removed]",
      "text/plain": [
       "<Figure size 720x720 with 2 Axes>"
      ]
     },
     "metadata": {
      "needs_background": "light"
     },
     "output_type": "display_data"
    }
   ],
   "source": [
    "fig,ax = plt.subplots(2,1, figsize=(10,10))\n",
    "\n",
    "y_trainPred=y_train_pred.reshape(y_train.shape)\n",
    "y_testPred=y_test_pred.reshape(y_test.shape)\n",
    "\n",
    "ax[0].scatter(y_train, y_trainPred, marker='o', color='k')\n",
    "ax[0].set_title('True Vs Predicted Tg for Train Data')\n",
    "ax[0].set(xlabel='True Tg', ylabel='Predicted Tg')\n",
    "\n",
    "ax[1].scatter(y_test, y_testPred, marker='o', color='r')\n",
    "ax[1].set_title('True Vs Predicted Tg for Test Data')\n",
    "ax[1].set(xlabel='True Tg', ylabel='Predicted Tg')"
   ]
  },
  {
   "cell_type": "markdown",
   "metadata": {},
   "source": [
    "## 10.0 Evaluation Metric- % Relative Error"
   ]
  },
  {
   "cell_type": "code",
   "execution_count": 23,
   "metadata": {},
   "outputs": [
    {
     "name": "stdout",
     "output_type": "stream",
     "text": [
      "% Relative Train Error: [2.34]\n",
      "% Relative Test Error: [7.86]\n"
     ]
    }
   ],
   "source": [
    "train_error = (abs((y_trainPred-y_train)/y_train).sum())*100*1/y_train.shape\n",
    "test_error = (abs((y_testPred-y_test)/y_test).sum())*100*1/y_test.shape\n",
    "print('% Relative Train Error:', train_error.round(2))\n",
    "print('% Relative Test Error:', test_error.round(2))"
   ]
  },
  {
   "cell_type": "markdown",
   "metadata": {},
   "source": [
    "## 11.0 Comparison of True and Predicted Tg on Test Data"
   ]
  },
  {
   "cell_type": "code",
   "execution_count": 24,
   "metadata": {},
   "outputs": [
    {
     "data": {
      "text/html": [
       "<div>\n",
       "<style scoped>\n",
       "    .dataframe tbody tr th:only-of-type {\n",
       "        vertical-align: middle;\n",
       "    }\n",
       "\n",
       "    .dataframe tbody tr th {\n",
       "        vertical-align: top;\n",
       "    }\n",
       "\n",
       "    .dataframe thead th {\n",
       "        text-align: right;\n",
       "    }\n",
       "</style>\n",
       "<table border=\"1\" class=\"dataframe\">\n",
       "  <thead>\n",
       "    <tr style=\"text-align: right;\">\n",
       "      <th></th>\n",
       "      <th>True Tg</th>\n",
       "    </tr>\n",
       "  </thead>\n",
       "  <tbody>\n",
       "    <tr>\n",
       "      <th>256</th>\n",
       "      <td>267.0</td>\n",
       "    </tr>\n",
       "    <tr>\n",
       "      <th>261</th>\n",
       "      <td>297.0</td>\n",
       "    </tr>\n",
       "  </tbody>\n",
       "</table>\n",
       "</div>"
      ],
      "text/plain": [
       "     True Tg\n",
       "256    267.0\n",
       "261    297.0"
      ]
     },
     "execution_count": 24,
     "metadata": {},
     "output_type": "execute_result"
    }
   ],
   "source": [
    "df1 = pd.DataFrame(y_test)\n",
    "df1 = df1.rename(columns={'Tg':'True Tg'})\n",
    "df1.head(2)"
   ]
  },
  {
   "cell_type": "code",
   "execution_count": 25,
   "metadata": {},
   "outputs": [
    {
     "data": {
      "text/html": [
       "<div>\n",
       "<style scoped>\n",
       "    .dataframe tbody tr th:only-of-type {\n",
       "        vertical-align: middle;\n",
       "    }\n",
       "\n",
       "    .dataframe tbody tr th {\n",
       "        vertical-align: top;\n",
       "    }\n",
       "\n",
       "    .dataframe thead th {\n",
       "        text-align: right;\n",
       "    }\n",
       "</style>\n",
       "<table border=\"1\" class=\"dataframe\">\n",
       "  <thead>\n",
       "    <tr style=\"text-align: right;\">\n",
       "      <th></th>\n",
       "      <th>Predicted Tg</th>\n",
       "    </tr>\n",
       "  </thead>\n",
       "  <tbody>\n",
       "    <tr>\n",
       "      <th>256</th>\n",
       "      <td>249.85</td>\n",
       "    </tr>\n",
       "    <tr>\n",
       "      <th>261</th>\n",
       "      <td>311.09</td>\n",
       "    </tr>\n",
       "  </tbody>\n",
       "</table>\n",
       "</div>"
      ],
      "text/plain": [
       "     Predicted Tg\n",
       "256        249.85\n",
       "261        311.09"
      ]
     },
     "execution_count": 25,
     "metadata": {},
     "output_type": "execute_result"
    }
   ],
   "source": [
    "df2 = pd.DataFrame(y_testPred, index = df1.index, columns=['Predicted Tg'])\n",
    "df2['Predicted Tg']=df2['Predicted Tg'].apply(lambda x: round(x,2))\n",
    "df2.head(2)"
   ]
  },
  {
   "cell_type": "code",
   "execution_count": 26,
   "metadata": {},
   "outputs": [
    {
     "data": {
      "text/html": [
       "<div>\n",
       "<style scoped>\n",
       "    .dataframe tbody tr th:only-of-type {\n",
       "        vertical-align: middle;\n",
       "    }\n",
       "\n",
       "    .dataframe tbody tr th {\n",
       "        vertical-align: top;\n",
       "    }\n",
       "\n",
       "    .dataframe thead th {\n",
       "        text-align: right;\n",
       "    }\n",
       "</style>\n",
       "<table border=\"1\" class=\"dataframe\">\n",
       "  <thead>\n",
       "    <tr style=\"text-align: right;\">\n",
       "      <th></th>\n",
       "      <th>True Tg</th>\n",
       "      <th>Predicted Tg</th>\n",
       "    </tr>\n",
       "  </thead>\n",
       "  <tbody>\n",
       "    <tr>\n",
       "      <th>256</th>\n",
       "      <td>267.0</td>\n",
       "      <td>249.85</td>\n",
       "    </tr>\n",
       "    <tr>\n",
       "      <th>261</th>\n",
       "      <td>297.0</td>\n",
       "      <td>311.09</td>\n",
       "    </tr>\n",
       "  </tbody>\n",
       "</table>\n",
       "</div>"
      ],
      "text/plain": [
       "     True Tg  Predicted Tg\n",
       "256    267.0        249.85\n",
       "261    297.0        311.09"
      ]
     },
     "execution_count": 26,
     "metadata": {},
     "output_type": "execute_result"
    }
   ],
   "source": [
    "df3 = df1.join(df2)\n",
    "df3.head(2)"
   ]
  },
  {
   "cell_type": "code",
   "execution_count": 27,
   "metadata": {},
   "outputs": [
    {
     "data": {
      "text/html": [
       "<div>\n",
       "<style scoped>\n",
       "    .dataframe tbody tr th:only-of-type {\n",
       "        vertical-align: middle;\n",
       "    }\n",
       "\n",
       "    .dataframe tbody tr th {\n",
       "        vertical-align: top;\n",
       "    }\n",
       "\n",
       "    .dataframe thead th {\n",
       "        text-align: right;\n",
       "    }\n",
       "</style>\n",
       "<table border=\"1\" class=\"dataframe\">\n",
       "  <thead>\n",
       "    <tr style=\"text-align: right;\">\n",
       "      <th></th>\n",
       "      <th>Tg</th>\n",
       "      <th>Molecular Structure</th>\n",
       "      <th>Nomenclature Name</th>\n",
       "    </tr>\n",
       "  </thead>\n",
       "  <tbody>\n",
       "    <tr>\n",
       "      <th>11</th>\n",
       "      <td>358.0</td>\n",
       "      <td>C=CC(=O)OCCCCCCC#N</td>\n",
       "      <td>Poly(2-cyanohexyl acrylate)</td>\n",
       "    </tr>\n",
       "    <tr>\n",
       "      <th>13</th>\n",
       "      <td>258.0</td>\n",
       "      <td>C=CC(=O)OCC(C)C(C)CC</td>\n",
       "      <td>Poly(1,3-dimethylbutyl acrylate)</td>\n",
       "    </tr>\n",
       "  </tbody>\n",
       "</table>\n",
       "</div>"
      ],
      "text/plain": [
       "       Tg   Molecular Structure                 Nomenclature Name\n",
       "11  358.0    C=CC(=O)OCCCCCCC#N       Poly(2-cyanohexyl acrylate)\n",
       "13  258.0  C=CC(=O)OCC(C)C(C)CC  Poly(1,3-dimethylbutyl acrylate)"
      ]
     },
     "execution_count": 27,
     "metadata": {},
     "output_type": "execute_result"
    }
   ],
   "source": [
    "df4 = df[df.index.isin(df3.index)]\n",
    "df4.head(2)"
   ]
  },
  {
   "cell_type": "code",
   "execution_count": 29,
   "metadata": {},
   "outputs": [
    {
     "data": {
      "text/html": [
       "<div>\n",
       "<style scoped>\n",
       "    .dataframe tbody tr th:only-of-type {\n",
       "        vertical-align: middle;\n",
       "    }\n",
       "\n",
       "    .dataframe tbody tr th {\n",
       "        vertical-align: top;\n",
       "    }\n",
       "\n",
       "    .dataframe thead th {\n",
       "        text-align: right;\n",
       "    }\n",
       "</style>\n",
       "<table border=\"1\" class=\"dataframe\">\n",
       "  <thead>\n",
       "    <tr style=\"text-align: right;\">\n",
       "      <th></th>\n",
       "      <th>Molecular Structure</th>\n",
       "      <th>Nomenclature Name</th>\n",
       "      <th>True Tg</th>\n",
       "      <th>Predicted Tg</th>\n",
       "    </tr>\n",
       "  </thead>\n",
       "  <tbody>\n",
       "    <tr>\n",
       "      <th>11</th>\n",
       "      <td>C=CC(=O)OCCCCCCC#N</td>\n",
       "      <td>Poly(2-cyanohexyl acrylate)</td>\n",
       "      <td>358.0</td>\n",
       "      <td>356.18</td>\n",
       "    </tr>\n",
       "    <tr>\n",
       "      <th>13</th>\n",
       "      <td>C=CC(=O)OCC(C)C(C)CC</td>\n",
       "      <td>Poly(1,3-dimethylbutyl acrylate)</td>\n",
       "      <td>258.0</td>\n",
       "      <td>255.85</td>\n",
       "    </tr>\n",
       "    <tr>\n",
       "      <th>17</th>\n",
       "      <td>C=CC(=O)OCCCOCC</td>\n",
       "      <td>Poly(3-ethoxypropyl acrylate)</td>\n",
       "      <td>218.0</td>\n",
       "      <td>220.62</td>\n",
       "    </tr>\n",
       "    <tr>\n",
       "      <th>22</th>\n",
       "      <td>C=CC(=O)OC(F)(C(F)(F)F)C(F)(F)F</td>\n",
       "      <td>Poly(heptafluoro-2-propyl acrylate)</td>\n",
       "      <td>283.0</td>\n",
       "      <td>282.78</td>\n",
       "    </tr>\n",
       "    <tr>\n",
       "      <th>26</th>\n",
       "      <td>C=CC(=O)OCC(C)C</td>\n",
       "      <td>Poly(isobutyl acrylate)</td>\n",
       "      <td>249.0</td>\n",
       "      <td>252.61</td>\n",
       "    </tr>\n",
       "  </tbody>\n",
       "</table>\n",
       "</div>"
      ],
      "text/plain": [
       "                Molecular Structure                    Nomenclature Name  \\\n",
       "11               C=CC(=O)OCCCCCCC#N          Poly(2-cyanohexyl acrylate)   \n",
       "13             C=CC(=O)OCC(C)C(C)CC     Poly(1,3-dimethylbutyl acrylate)   \n",
       "17                  C=CC(=O)OCCCOCC        Poly(3-ethoxypropyl acrylate)   \n",
       "22  C=CC(=O)OC(F)(C(F)(F)F)C(F)(F)F  Poly(heptafluoro-2-propyl acrylate)   \n",
       "26                  C=CC(=O)OCC(C)C              Poly(isobutyl acrylate)   \n",
       "\n",
       "    True Tg  Predicted Tg  \n",
       "11    358.0        356.18  \n",
       "13    258.0        255.85  \n",
       "17    218.0        220.62  \n",
       "22    283.0        282.78  \n",
       "26    249.0        252.61  "
      ]
     },
     "execution_count": 29,
     "metadata": {},
     "output_type": "execute_result"
    }
   ],
   "source": [
    "final = df4.join(df3)\n",
    "final.drop(columns=['Tg'], inplace=True)\n",
    "final.head()"
   ]
  },
  {
   "cell_type": "code",
   "execution_count": null,
   "metadata": {},
   "outputs": [],
   "source": []
  },
  {
   "cell_type": "code",
   "execution_count": null,
   "metadata": {},
   "outputs": [],
   "source": []
  },
  {
   "cell_type": "code",
   "execution_count": null,
   "metadata": {},
   "outputs": [],
   "source": []
  }
 ],
 "metadata": {
  "kernelspec": {
   "display_name": "Python 3",
   "language": "python",
   "name": "python3"
  },
  "language_info": {
   "codemirror_mode": {
    "name": "ipython",
    "version": 3
   },
   "file_extension": ".py",
   "mimetype": "text/x-python",
   "name": "python",
   "nbconvert_exporter": "python",
   "pygments_lexer": "ipython3",
   "version": "3.8.5"
  }
 },
 "nbformat": 4,
 "nbformat_minor": 4
}
