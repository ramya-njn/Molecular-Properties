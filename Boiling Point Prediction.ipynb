{
 "cells": [
  {
   "cell_type": "markdown",
   "metadata": {},
   "source": [
    "# QSPR - Boiling Point of Alkanes"
   ]
  },
  {
   "cell_type": "markdown",
   "metadata": {},
   "source": [
    "# 1. Import RDKit, mordred (Calculator and descriptors)"
   ]
  },
  {
   "cell_type": "code",
   "execution_count": 1,
   "metadata": {},
   "outputs": [],
   "source": [
    "from rdkit import Chem\n",
    "from mordred import Calculator, descriptors\n"
   ]
  },
  {
   "cell_type": "markdown",
   "metadata": {},
   "source": [
    "# 2. Set up a function that reads the descriptors"
   ]
  },
  {
   "cell_type": "code",
   "execution_count": 2,
   "metadata": {},
   "outputs": [],
   "source": [
    "calc = Calculator(descriptors, ignore_3D=True)"
   ]
  },
  {
   "cell_type": "markdown",
   "metadata": {},
   "source": [
    "# 3. Use RDkit to create a mol file or a mol object from 'smiles' \n",
    "# Calculate Descriptors for SINGLE molecule"
   ]
  },
  {
   "cell_type": "code",
   "execution_count": 3,
   "metadata": {},
   "outputs": [
    {
     "name": "stdout",
     "output_type": "stream",
     "text": [
      "<rdkit.Chem.rdchem.Mol object at 0x0000016411966030>\n"
     ]
    }
   ],
   "source": [
    "propane = Chem.MolFromSmiles('CCC') ## This creates an object in RDKit\n",
    "print(propane) "
   ]
  },
  {
   "cell_type": "code",
   "execution_count": 4,
   "metadata": {},
   "outputs": [
    {
     "name": "stdout",
     "output_type": "stream",
     "text": [
      "[1.4142135623730951, 1.4142135623730951, 0]\n"
     ]
    }
   ],
   "source": [
    "des = calc(propane)\n",
    "print(des[:3])"
   ]
  },
  {
   "cell_type": "code",
   "execution_count": 5,
   "metadata": {},
   "outputs": [
    {
     "name": "stdout",
     "output_type": "stream",
     "text": [
      "[(mordred.ABCIndex.ABCIndex(), 1.4142135623730951), (mordred.ABCIndex.ABCGGIndex(), 1.4142135623730951), (mordred.AcidBase.AcidicGroupCount(), 0), (mordred.AcidBase.BasicGroupCount(), 0), (mordred.AdjacencyMatrix.AdjacencyMatrix('SpAbs'), 2.82842712474619)]\n"
     ]
    }
   ],
   "source": [
    "single_des = dict(des)\n",
    "print(list(single_des.items())[:5]) #### List of dict.items() in tuple format"
   ]
  },
  {
   "cell_type": "markdown",
   "metadata": {},
   "source": [
    "# 4. Calculate the Descriptors for a SMILES LIST as DataFrame"
   ]
  },
  {
   "cell_type": "code",
   "execution_count": 6,
   "metadata": {},
   "outputs": [
    {
     "name": "stdout",
     "output_type": "stream",
     "text": [
      "[<rdkit.Chem.rdchem.Mol object at 0x0000016411C6D8F0>, <rdkit.Chem.rdchem.Mol object at 0x0000016411C6DCB0>, <rdkit.Chem.rdchem.Mol object at 0x0000016411C6DD00>, <rdkit.Chem.rdchem.Mol object at 0x0000016411C6DD50>, <rdkit.Chem.rdchem.Mol object at 0x0000016411C6DDA0>]\n"
     ]
    },
    {
     "name": "stderr",
     "output_type": "stream",
     "text": [
      "100%|██████████| 5/5 [00:02<00:00,  2.07it/s]\n"
     ]
    },
    {
     "data": {
      "text/html": [
       "<div>\n",
       "<style scoped>\n",
       "    .dataframe tbody tr th:only-of-type {\n",
       "        vertical-align: middle;\n",
       "    }\n",
       "\n",
       "    .dataframe tbody tr th {\n",
       "        vertical-align: top;\n",
       "    }\n",
       "\n",
       "    .dataframe thead th {\n",
       "        text-align: right;\n",
       "    }\n",
       "</style>\n",
       "<table border=\"1\" class=\"dataframe\">\n",
       "  <thead>\n",
       "    <tr style=\"text-align: right;\">\n",
       "      <th></th>\n",
       "      <th>ABC</th>\n",
       "      <th>ABCGG</th>\n",
       "      <th>nAcid</th>\n",
       "      <th>nBase</th>\n",
       "      <th>SpAbs_A</th>\n",
       "      <th>SpMax_A</th>\n",
       "      <th>SpDiam_A</th>\n",
       "      <th>SpAD_A</th>\n",
       "      <th>SpMAD_A</th>\n",
       "      <th>LogEE_A</th>\n",
       "      <th>...</th>\n",
       "      <th>SRW10</th>\n",
       "      <th>TSRW10</th>\n",
       "      <th>MW</th>\n",
       "      <th>AMW</th>\n",
       "      <th>WPath</th>\n",
       "      <th>WPol</th>\n",
       "      <th>Zagreb1</th>\n",
       "      <th>Zagreb2</th>\n",
       "      <th>mZagreb1</th>\n",
       "      <th>mZagreb2</th>\n",
       "    </tr>\n",
       "  </thead>\n",
       "  <tbody>\n",
       "    <tr>\n",
       "      <th>0</th>\n",
       "      <td>1.414214</td>\n",
       "      <td>1.414214</td>\n",
       "      <td>0</td>\n",
       "      <td>0</td>\n",
       "      <td>2.828427</td>\n",
       "      <td>1.414214</td>\n",
       "      <td>2.828427</td>\n",
       "      <td>2.828427</td>\n",
       "      <td>0.942809</td>\n",
       "      <td>1.849457</td>\n",
       "      <td>...</td>\n",
       "      <td>4.174387</td>\n",
       "      <td>17.310771</td>\n",
       "      <td>44.06260</td>\n",
       "      <td>4.005691</td>\n",
       "      <td>4</td>\n",
       "      <td>0</td>\n",
       "      <td>6.0</td>\n",
       "      <td>4.0</td>\n",
       "      <td>2.250000</td>\n",
       "      <td>1.000000</td>\n",
       "    </tr>\n",
       "    <tr>\n",
       "      <th>1</th>\n",
       "      <td>2.121320</td>\n",
       "      <td>2.340100</td>\n",
       "      <td>0</td>\n",
       "      <td>0</td>\n",
       "      <td>4.472136</td>\n",
       "      <td>1.618034</td>\n",
       "      <td>3.236068</td>\n",
       "      <td>4.472136</td>\n",
       "      <td>1.118034</td>\n",
       "      <td>2.155909</td>\n",
       "      <td>...</td>\n",
       "      <td>5.509388</td>\n",
       "      <td>22.328143</td>\n",
       "      <td>58.07825</td>\n",
       "      <td>4.148446</td>\n",
       "      <td>10</td>\n",
       "      <td>1</td>\n",
       "      <td>10.0</td>\n",
       "      <td>8.0</td>\n",
       "      <td>2.500000</td>\n",
       "      <td>1.250000</td>\n",
       "    </tr>\n",
       "    <tr>\n",
       "      <th>2</th>\n",
       "      <td>2.828427</td>\n",
       "      <td>3.146264</td>\n",
       "      <td>0</td>\n",
       "      <td>0</td>\n",
       "      <td>5.464102</td>\n",
       "      <td>1.732051</td>\n",
       "      <td>3.464102</td>\n",
       "      <td>5.464102</td>\n",
       "      <td>1.092820</td>\n",
       "      <td>2.390167</td>\n",
       "      <td>...</td>\n",
       "      <td>6.192362</td>\n",
       "      <td>25.583106</td>\n",
       "      <td>72.09390</td>\n",
       "      <td>4.240818</td>\n",
       "      <td>20</td>\n",
       "      <td>2</td>\n",
       "      <td>14.0</td>\n",
       "      <td>12.0</td>\n",
       "      <td>2.750000</td>\n",
       "      <td>1.500000</td>\n",
       "    </tr>\n",
       "    <tr>\n",
       "      <th>3</th>\n",
       "      <td>3.754314</td>\n",
       "      <td>4.057055</td>\n",
       "      <td>0</td>\n",
       "      <td>0</td>\n",
       "      <td>6.155367</td>\n",
       "      <td>1.902113</td>\n",
       "      <td>3.804226</td>\n",
       "      <td>6.155367</td>\n",
       "      <td>1.025895</td>\n",
       "      <td>2.595100</td>\n",
       "      <td>...</td>\n",
       "      <td>7.131699</td>\n",
       "      <td>29.439488</td>\n",
       "      <td>86.10955</td>\n",
       "      <td>4.305478</td>\n",
       "      <td>32</td>\n",
       "      <td>3</td>\n",
       "      <td>20.0</td>\n",
       "      <td>18.0</td>\n",
       "      <td>3.611111</td>\n",
       "      <td>1.583333</td>\n",
       "    </tr>\n",
       "    <tr>\n",
       "      <th>4</th>\n",
       "      <td>3.932653</td>\n",
       "      <td>4.244375</td>\n",
       "      <td>0</td>\n",
       "      <td>0</td>\n",
       "      <td>6.000000</td>\n",
       "      <td>2.000000</td>\n",
       "      <td>4.000000</td>\n",
       "      <td>6.000000</td>\n",
       "      <td>1.000000</td>\n",
       "      <td>2.610845</td>\n",
       "      <td>...</td>\n",
       "      <td>7.626083</td>\n",
       "      <td>30.698690</td>\n",
       "      <td>86.10955</td>\n",
       "      <td>4.305478</td>\n",
       "      <td>29</td>\n",
       "      <td>4</td>\n",
       "      <td>22.0</td>\n",
       "      <td>21.0</td>\n",
       "      <td>4.222222</td>\n",
       "      <td>1.444444</td>\n",
       "    </tr>\n",
       "  </tbody>\n",
       "</table>\n",
       "<p>5 rows × 1613 columns</p>\n",
       "</div>"
      ],
      "text/plain": [
       "        ABC     ABCGG  nAcid  nBase   SpAbs_A   SpMax_A  SpDiam_A    SpAD_A  \\\n",
       "0  1.414214  1.414214      0      0  2.828427  1.414214  2.828427  2.828427   \n",
       "1  2.121320  2.340100      0      0  4.472136  1.618034  3.236068  4.472136   \n",
       "2  2.828427  3.146264      0      0  5.464102  1.732051  3.464102  5.464102   \n",
       "3  3.754314  4.057055      0      0  6.155367  1.902113  3.804226  6.155367   \n",
       "4  3.932653  4.244375      0      0  6.000000  2.000000  4.000000  6.000000   \n",
       "\n",
       "    SpMAD_A   LogEE_A  ...     SRW10     TSRW10        MW       AMW  WPath  \\\n",
       "0  0.942809  1.849457  ...  4.174387  17.310771  44.06260  4.005691      4   \n",
       "1  1.118034  2.155909  ...  5.509388  22.328143  58.07825  4.148446     10   \n",
       "2  1.092820  2.390167  ...  6.192362  25.583106  72.09390  4.240818     20   \n",
       "3  1.025895  2.595100  ...  7.131699  29.439488  86.10955  4.305478     32   \n",
       "4  1.000000  2.610845  ...  7.626083  30.698690  86.10955  4.305478     29   \n",
       "\n",
       "   WPol  Zagreb1  Zagreb2  mZagreb1  mZagreb2  \n",
       "0     0      6.0      4.0  2.250000  1.000000  \n",
       "1     1     10.0      8.0  2.500000  1.250000  \n",
       "2     2     14.0     12.0  2.750000  1.500000  \n",
       "3     3     20.0     18.0  3.611111  1.583333  \n",
       "4     4     22.0     21.0  4.222222  1.444444  \n",
       "\n",
       "[5 rows x 1613 columns]"
      ]
     },
     "execution_count": 6,
     "metadata": {},
     "output_type": "execute_result"
    }
   ],
   "source": [
    "smiles = [\"CCC\", \"CCCC\", \"CCCCC\", \"CCCC(C)C\",\"CC(C)C(C)C\"] \n",
    "mol = [Chem.MolFromSmiles(smi) for smi in smiles]\n",
    "print(mol)\n",
    "df = calc.pandas(mol)  ### Note: Here mol should be an iterable, a list of smiles. A single 'smile'\n",
    "df                     ### will give error and not a pandas dataframe"
   ]
  },
  {
   "cell_type": "code",
   "execution_count": 7,
   "metadata": {},
   "outputs": [
    {
     "data": {
      "text/html": [
       "<div>\n",
       "<style scoped>\n",
       "    .dataframe tbody tr th:only-of-type {\n",
       "        vertical-align: middle;\n",
       "    }\n",
       "\n",
       "    .dataframe tbody tr th {\n",
       "        vertical-align: top;\n",
       "    }\n",
       "\n",
       "    .dataframe thead th {\n",
       "        text-align: right;\n",
       "    }\n",
       "</style>\n",
       "<table border=\"1\" class=\"dataframe\">\n",
       "  <thead>\n",
       "    <tr style=\"text-align: right;\">\n",
       "      <th></th>\n",
       "      <th>ABC</th>\n",
       "      <th>ABCGG</th>\n",
       "      <th>nAcid</th>\n",
       "      <th>nBase</th>\n",
       "      <th>SpAbs_A</th>\n",
       "      <th>SpMax_A</th>\n",
       "      <th>SpDiam_A</th>\n",
       "      <th>SpAD_A</th>\n",
       "      <th>SpMAD_A</th>\n",
       "      <th>LogEE_A</th>\n",
       "      <th>...</th>\n",
       "      <th>TSRW10</th>\n",
       "      <th>MW</th>\n",
       "      <th>AMW</th>\n",
       "      <th>WPath</th>\n",
       "      <th>WPol</th>\n",
       "      <th>Zagreb1</th>\n",
       "      <th>Zagreb2</th>\n",
       "      <th>mZagreb1</th>\n",
       "      <th>mZagreb2</th>\n",
       "      <th>Smiles</th>\n",
       "    </tr>\n",
       "  </thead>\n",
       "  <tbody>\n",
       "    <tr>\n",
       "      <th>0</th>\n",
       "      <td>1.414214</td>\n",
       "      <td>1.414214</td>\n",
       "      <td>0</td>\n",
       "      <td>0</td>\n",
       "      <td>2.828427</td>\n",
       "      <td>1.414214</td>\n",
       "      <td>2.828427</td>\n",
       "      <td>2.828427</td>\n",
       "      <td>0.942809</td>\n",
       "      <td>1.849457</td>\n",
       "      <td>...</td>\n",
       "      <td>17.310771</td>\n",
       "      <td>44.06260</td>\n",
       "      <td>4.005691</td>\n",
       "      <td>4</td>\n",
       "      <td>0</td>\n",
       "      <td>6.0</td>\n",
       "      <td>4.0</td>\n",
       "      <td>2.250000</td>\n",
       "      <td>1.000000</td>\n",
       "      <td>CCC</td>\n",
       "    </tr>\n",
       "    <tr>\n",
       "      <th>1</th>\n",
       "      <td>2.121320</td>\n",
       "      <td>2.340100</td>\n",
       "      <td>0</td>\n",
       "      <td>0</td>\n",
       "      <td>4.472136</td>\n",
       "      <td>1.618034</td>\n",
       "      <td>3.236068</td>\n",
       "      <td>4.472136</td>\n",
       "      <td>1.118034</td>\n",
       "      <td>2.155909</td>\n",
       "      <td>...</td>\n",
       "      <td>22.328143</td>\n",
       "      <td>58.07825</td>\n",
       "      <td>4.148446</td>\n",
       "      <td>10</td>\n",
       "      <td>1</td>\n",
       "      <td>10.0</td>\n",
       "      <td>8.0</td>\n",
       "      <td>2.500000</td>\n",
       "      <td>1.250000</td>\n",
       "      <td>CCCC</td>\n",
       "    </tr>\n",
       "    <tr>\n",
       "      <th>2</th>\n",
       "      <td>2.828427</td>\n",
       "      <td>3.146264</td>\n",
       "      <td>0</td>\n",
       "      <td>0</td>\n",
       "      <td>5.464102</td>\n",
       "      <td>1.732051</td>\n",
       "      <td>3.464102</td>\n",
       "      <td>5.464102</td>\n",
       "      <td>1.092820</td>\n",
       "      <td>2.390167</td>\n",
       "      <td>...</td>\n",
       "      <td>25.583106</td>\n",
       "      <td>72.09390</td>\n",
       "      <td>4.240818</td>\n",
       "      <td>20</td>\n",
       "      <td>2</td>\n",
       "      <td>14.0</td>\n",
       "      <td>12.0</td>\n",
       "      <td>2.750000</td>\n",
       "      <td>1.500000</td>\n",
       "      <td>CCCCC</td>\n",
       "    </tr>\n",
       "    <tr>\n",
       "      <th>3</th>\n",
       "      <td>3.754314</td>\n",
       "      <td>4.057055</td>\n",
       "      <td>0</td>\n",
       "      <td>0</td>\n",
       "      <td>6.155367</td>\n",
       "      <td>1.902113</td>\n",
       "      <td>3.804226</td>\n",
       "      <td>6.155367</td>\n",
       "      <td>1.025895</td>\n",
       "      <td>2.595100</td>\n",
       "      <td>...</td>\n",
       "      <td>29.439488</td>\n",
       "      <td>86.10955</td>\n",
       "      <td>4.305478</td>\n",
       "      <td>32</td>\n",
       "      <td>3</td>\n",
       "      <td>20.0</td>\n",
       "      <td>18.0</td>\n",
       "      <td>3.611111</td>\n",
       "      <td>1.583333</td>\n",
       "      <td>CCCC(C)C</td>\n",
       "    </tr>\n",
       "    <tr>\n",
       "      <th>4</th>\n",
       "      <td>3.932653</td>\n",
       "      <td>4.244375</td>\n",
       "      <td>0</td>\n",
       "      <td>0</td>\n",
       "      <td>6.000000</td>\n",
       "      <td>2.000000</td>\n",
       "      <td>4.000000</td>\n",
       "      <td>6.000000</td>\n",
       "      <td>1.000000</td>\n",
       "      <td>2.610845</td>\n",
       "      <td>...</td>\n",
       "      <td>30.698690</td>\n",
       "      <td>86.10955</td>\n",
       "      <td>4.305478</td>\n",
       "      <td>29</td>\n",
       "      <td>4</td>\n",
       "      <td>22.0</td>\n",
       "      <td>21.0</td>\n",
       "      <td>4.222222</td>\n",
       "      <td>1.444444</td>\n",
       "      <td>CC(C)C(C)C</td>\n",
       "    </tr>\n",
       "  </tbody>\n",
       "</table>\n",
       "<p>5 rows × 1614 columns</p>\n",
       "</div>"
      ],
      "text/plain": [
       "        ABC     ABCGG  nAcid  nBase   SpAbs_A   SpMax_A  SpDiam_A    SpAD_A  \\\n",
       "0  1.414214  1.414214      0      0  2.828427  1.414214  2.828427  2.828427   \n",
       "1  2.121320  2.340100      0      0  4.472136  1.618034  3.236068  4.472136   \n",
       "2  2.828427  3.146264      0      0  5.464102  1.732051  3.464102  5.464102   \n",
       "3  3.754314  4.057055      0      0  6.155367  1.902113  3.804226  6.155367   \n",
       "4  3.932653  4.244375      0      0  6.000000  2.000000  4.000000  6.000000   \n",
       "\n",
       "    SpMAD_A   LogEE_A  ...     TSRW10        MW       AMW  WPath  WPol  \\\n",
       "0  0.942809  1.849457  ...  17.310771  44.06260  4.005691      4     0   \n",
       "1  1.118034  2.155909  ...  22.328143  58.07825  4.148446     10     1   \n",
       "2  1.092820  2.390167  ...  25.583106  72.09390  4.240818     20     2   \n",
       "3  1.025895  2.595100  ...  29.439488  86.10955  4.305478     32     3   \n",
       "4  1.000000  2.610845  ...  30.698690  86.10955  4.305478     29     4   \n",
       "\n",
       "   Zagreb1  Zagreb2  mZagreb1  mZagreb2      Smiles  \n",
       "0      6.0      4.0  2.250000  1.000000         CCC  \n",
       "1     10.0      8.0  2.500000  1.250000        CCCC  \n",
       "2     14.0     12.0  2.750000  1.500000       CCCCC  \n",
       "3     20.0     18.0  3.611111  1.583333    CCCC(C)C  \n",
       "4     22.0     21.0  4.222222  1.444444  CC(C)C(C)C  \n",
       "\n",
       "[5 rows x 1614 columns]"
      ]
     },
     "execution_count": 7,
     "metadata": {},
     "output_type": "execute_result"
    }
   ],
   "source": [
    "df['Smiles']=smiles\n",
    "df"
   ]
  },
  {
   "cell_type": "code",
   "execution_count": 8,
   "metadata": {},
   "outputs": [
    {
     "data": {
      "text/html": [
       "<div>\n",
       "<style scoped>\n",
       "    .dataframe tbody tr th:only-of-type {\n",
       "        vertical-align: middle;\n",
       "    }\n",
       "\n",
       "    .dataframe tbody tr th {\n",
       "        vertical-align: top;\n",
       "    }\n",
       "\n",
       "    .dataframe thead th {\n",
       "        text-align: right;\n",
       "    }\n",
       "</style>\n",
       "<table border=\"1\" class=\"dataframe\">\n",
       "  <thead>\n",
       "    <tr style=\"text-align: right;\">\n",
       "      <th></th>\n",
       "      <th>Smiles</th>\n",
       "      <th>ABC</th>\n",
       "      <th>ABCGG</th>\n",
       "      <th>nAcid</th>\n",
       "      <th>nBase</th>\n",
       "      <th>SpAbs_A</th>\n",
       "      <th>SpMax_A</th>\n",
       "      <th>SpDiam_A</th>\n",
       "      <th>SpAD_A</th>\n",
       "      <th>SpMAD_A</th>\n",
       "      <th>...</th>\n",
       "      <th>SRW10</th>\n",
       "      <th>TSRW10</th>\n",
       "      <th>MW</th>\n",
       "      <th>AMW</th>\n",
       "      <th>WPath</th>\n",
       "      <th>WPol</th>\n",
       "      <th>Zagreb1</th>\n",
       "      <th>Zagreb2</th>\n",
       "      <th>mZagreb1</th>\n",
       "      <th>mZagreb2</th>\n",
       "    </tr>\n",
       "  </thead>\n",
       "  <tbody>\n",
       "    <tr>\n",
       "      <th>0</th>\n",
       "      <td>CCC</td>\n",
       "      <td>1.414214</td>\n",
       "      <td>1.414214</td>\n",
       "      <td>0</td>\n",
       "      <td>0</td>\n",
       "      <td>2.828427</td>\n",
       "      <td>1.414214</td>\n",
       "      <td>2.828427</td>\n",
       "      <td>2.828427</td>\n",
       "      <td>0.942809</td>\n",
       "      <td>...</td>\n",
       "      <td>4.174387</td>\n",
       "      <td>17.310771</td>\n",
       "      <td>44.06260</td>\n",
       "      <td>4.005691</td>\n",
       "      <td>4</td>\n",
       "      <td>0</td>\n",
       "      <td>6.0</td>\n",
       "      <td>4.0</td>\n",
       "      <td>2.250000</td>\n",
       "      <td>1.000000</td>\n",
       "    </tr>\n",
       "    <tr>\n",
       "      <th>1</th>\n",
       "      <td>CCCC</td>\n",
       "      <td>2.121320</td>\n",
       "      <td>2.340100</td>\n",
       "      <td>0</td>\n",
       "      <td>0</td>\n",
       "      <td>4.472136</td>\n",
       "      <td>1.618034</td>\n",
       "      <td>3.236068</td>\n",
       "      <td>4.472136</td>\n",
       "      <td>1.118034</td>\n",
       "      <td>...</td>\n",
       "      <td>5.509388</td>\n",
       "      <td>22.328143</td>\n",
       "      <td>58.07825</td>\n",
       "      <td>4.148446</td>\n",
       "      <td>10</td>\n",
       "      <td>1</td>\n",
       "      <td>10.0</td>\n",
       "      <td>8.0</td>\n",
       "      <td>2.500000</td>\n",
       "      <td>1.250000</td>\n",
       "    </tr>\n",
       "    <tr>\n",
       "      <th>2</th>\n",
       "      <td>CCCCC</td>\n",
       "      <td>2.828427</td>\n",
       "      <td>3.146264</td>\n",
       "      <td>0</td>\n",
       "      <td>0</td>\n",
       "      <td>5.464102</td>\n",
       "      <td>1.732051</td>\n",
       "      <td>3.464102</td>\n",
       "      <td>5.464102</td>\n",
       "      <td>1.092820</td>\n",
       "      <td>...</td>\n",
       "      <td>6.192362</td>\n",
       "      <td>25.583106</td>\n",
       "      <td>72.09390</td>\n",
       "      <td>4.240818</td>\n",
       "      <td>20</td>\n",
       "      <td>2</td>\n",
       "      <td>14.0</td>\n",
       "      <td>12.0</td>\n",
       "      <td>2.750000</td>\n",
       "      <td>1.500000</td>\n",
       "    </tr>\n",
       "    <tr>\n",
       "      <th>3</th>\n",
       "      <td>CCCC(C)C</td>\n",
       "      <td>3.754314</td>\n",
       "      <td>4.057055</td>\n",
       "      <td>0</td>\n",
       "      <td>0</td>\n",
       "      <td>6.155367</td>\n",
       "      <td>1.902113</td>\n",
       "      <td>3.804226</td>\n",
       "      <td>6.155367</td>\n",
       "      <td>1.025895</td>\n",
       "      <td>...</td>\n",
       "      <td>7.131699</td>\n",
       "      <td>29.439488</td>\n",
       "      <td>86.10955</td>\n",
       "      <td>4.305478</td>\n",
       "      <td>32</td>\n",
       "      <td>3</td>\n",
       "      <td>20.0</td>\n",
       "      <td>18.0</td>\n",
       "      <td>3.611111</td>\n",
       "      <td>1.583333</td>\n",
       "    </tr>\n",
       "    <tr>\n",
       "      <th>4</th>\n",
       "      <td>CC(C)C(C)C</td>\n",
       "      <td>3.932653</td>\n",
       "      <td>4.244375</td>\n",
       "      <td>0</td>\n",
       "      <td>0</td>\n",
       "      <td>6.000000</td>\n",
       "      <td>2.000000</td>\n",
       "      <td>4.000000</td>\n",
       "      <td>6.000000</td>\n",
       "      <td>1.000000</td>\n",
       "      <td>...</td>\n",
       "      <td>7.626083</td>\n",
       "      <td>30.698690</td>\n",
       "      <td>86.10955</td>\n",
       "      <td>4.305478</td>\n",
       "      <td>29</td>\n",
       "      <td>4</td>\n",
       "      <td>22.0</td>\n",
       "      <td>21.0</td>\n",
       "      <td>4.222222</td>\n",
       "      <td>1.444444</td>\n",
       "    </tr>\n",
       "  </tbody>\n",
       "</table>\n",
       "<p>5 rows × 1614 columns</p>\n",
       "</div>"
      ],
      "text/plain": [
       "       Smiles       ABC     ABCGG  nAcid  nBase   SpAbs_A   SpMax_A  SpDiam_A  \\\n",
       "0         CCC  1.414214  1.414214      0      0  2.828427  1.414214  2.828427   \n",
       "1        CCCC  2.121320  2.340100      0      0  4.472136  1.618034  3.236068   \n",
       "2       CCCCC  2.828427  3.146264      0      0  5.464102  1.732051  3.464102   \n",
       "3    CCCC(C)C  3.754314  4.057055      0      0  6.155367  1.902113  3.804226   \n",
       "4  CC(C)C(C)C  3.932653  4.244375      0      0  6.000000  2.000000  4.000000   \n",
       "\n",
       "     SpAD_A   SpMAD_A  ...     SRW10     TSRW10        MW       AMW  WPath  \\\n",
       "0  2.828427  0.942809  ...  4.174387  17.310771  44.06260  4.005691      4   \n",
       "1  4.472136  1.118034  ...  5.509388  22.328143  58.07825  4.148446     10   \n",
       "2  5.464102  1.092820  ...  6.192362  25.583106  72.09390  4.240818     20   \n",
       "3  6.155367  1.025895  ...  7.131699  29.439488  86.10955  4.305478     32   \n",
       "4  6.000000  1.000000  ...  7.626083  30.698690  86.10955  4.305478     29   \n",
       "\n",
       "   WPol  Zagreb1  Zagreb2  mZagreb1  mZagreb2  \n",
       "0     0      6.0      4.0  2.250000  1.000000  \n",
       "1     1     10.0      8.0  2.500000  1.250000  \n",
       "2     2     14.0     12.0  2.750000  1.500000  \n",
       "3     3     20.0     18.0  3.611111  1.583333  \n",
       "4     4     22.0     21.0  4.222222  1.444444  \n",
       "\n",
       "[5 rows x 1614 columns]"
      ]
     },
     "execution_count": 8,
     "metadata": {},
     "output_type": "execute_result"
    }
   ],
   "source": [
    "df = df[['Smiles'] + [col for col in df.columns if col != 'Smiles']]\n",
    "df"
   ]
  },
  {
   "cell_type": "markdown",
   "metadata": {},
   "source": [
    "# 5. Calculate Wiener Index and Zagreb index 1, 2 for a single  molecule"
   ]
  },
  {
   "cell_type": "code",
   "execution_count": 9,
   "metadata": {},
   "outputs": [
    {
     "name": "stdout",
     "output_type": "stream",
     "text": [
      "The Wiener Index for pentane is: 4\n"
     ]
    }
   ],
   "source": [
    "from mordred import WienerIndex\n",
    "\n",
    "wiener = WienerIndex.WienerIndex()\n",
    "wiener_index = wiener(propane)\n",
    "print('The Wiener Index for pentane is:', wiener_index)"
   ]
  },
  {
   "cell_type": "code",
   "execution_count": 10,
   "metadata": {},
   "outputs": [
    {
     "name": "stdout",
     "output_type": "stream",
     "text": [
      "The Zagreb Index 1 for pentane is: 6.0\n",
      "The Zagreb Index 2 for pentane is: 4.0\n"
     ]
    }
   ],
   "source": [
    "from mordred import ZagrebIndex\n",
    "\n",
    "zagreb1 = ZagrebIndex.ZagrebIndex(version=1)\n",
    "zagreb2 = ZagrebIndex.ZagrebIndex(version=2)\n",
    "\n",
    "zagreb_index1 = zagreb1(propane)\n",
    "zagreb_index2 = zagreb2(propane)\n",
    "\n",
    "print('The Zagreb Index 1 for pentane is:', zagreb_index1)\n",
    "print('The Zagreb Index 2 for pentane is:', zagreb_index2)\n"
   ]
  },
  {
   "cell_type": "markdown",
   "metadata": {},
   "source": [
    "# 6. Calculate Wiener Index and Zagreb index 1, 2 for the SMILES LIST"
   ]
  },
  {
   "cell_type": "code",
   "execution_count": 11,
   "metadata": {},
   "outputs": [
    {
     "name": "stdout",
     "output_type": "stream",
     "text": [
      "Wiener Index for Smiles list is:\n",
      " {'CCC': 4, 'CCCC': 10, 'CCCCC': 20, 'CCCC(C)C': 32, 'CC(C)C(C)C': 29} \n",
      "\n",
      "Zagreb Index 1 for Smiles list is:\n",
      " {'CCC': 6.0, 'CCCC': 10.0, 'CCCCC': 14.0, 'CCCC(C)C': 20.0, 'CC(C)C(C)C': 22.0} \n",
      "\n",
      "Zagreb Index 2 for Smiles list is:\n",
      " {'CCC': 4.0, 'CCCC': 8.0, 'CCCCC': 12.0, 'CCCC(C)C': 18.0, 'CC(C)C(C)C': 21.0} \n",
      "\n"
     ]
    }
   ],
   "source": [
    "smiles = [\"CCC\", \"CCCC\", \"CCCCC\", \"CCCC(C)C\",\"CC(C)C(C)C\"] \n",
    "#mol = [Chem.MolFromSmiles(smi) for smi in smiles]\n",
    "\n",
    "W_idx = {}\n",
    "z1 = {}\n",
    "z2 = {}\n",
    "\n",
    "for smile in smiles:\n",
    "    mol = Chem.MolFromSmiles(smile)\n",
    "    wiener_index = wiener(mol)\n",
    "    W_idx[smile]=wiener_index\n",
    "    \n",
    "    zagreb_index1=zagreb1(mol)\n",
    "    z1[smile]=zagreb_index1\n",
    "    \n",
    "    zagreb_index2=zagreb2(mol)\n",
    "    z2[smile]=zagreb_index2\n",
    "    \n",
    "print('Wiener Index for Smiles list is:\\n',W_idx,'\\n')    \n",
    "print('Zagreb Index 1 for Smiles list is:\\n', z1, '\\n')\n",
    "print('Zagreb Index 2 for Smiles list is:\\n', z2, '\\n')"
   ]
  },
  {
   "cell_type": "markdown",
   "metadata": {},
   "source": [
    "# 7. Using Descriptors to predict B.Pt"
   ]
  },
  {
   "cell_type": "code",
   "execution_count": 12,
   "metadata": {},
   "outputs": [],
   "source": [
    "import pandas as pd\n",
    "import matplotlib.pyplot as plt\n",
    "import seaborn as sns"
   ]
  },
  {
   "cell_type": "code",
   "execution_count": 14,
   "metadata": {},
   "outputs": [
    {
     "data": {
      "text/html": [
       "<div>\n",
       "<style scoped>\n",
       "    .dataframe tbody tr th:only-of-type {\n",
       "        vertical-align: middle;\n",
       "    }\n",
       "\n",
       "    .dataframe tbody tr th {\n",
       "        vertical-align: top;\n",
       "    }\n",
       "\n",
       "    .dataframe thead th {\n",
       "        text-align: right;\n",
       "    }\n",
       "</style>\n",
       "<table border=\"1\" class=\"dataframe\">\n",
       "  <thead>\n",
       "    <tr style=\"text-align: right;\">\n",
       "      <th></th>\n",
       "      <th>smiles</th>\n",
       "      <th>bp_C</th>\n",
       "      <th>BP_K</th>\n",
       "      <th>MW</th>\n",
       "      <th>Name</th>\n",
       "    </tr>\n",
       "  </thead>\n",
       "  <tbody>\n",
       "    <tr>\n",
       "      <th>0</th>\n",
       "      <td>C</td>\n",
       "      <td>-164.0</td>\n",
       "      <td>109.15</td>\n",
       "      <td>16.04</td>\n",
       "      <td>methane</td>\n",
       "    </tr>\n",
       "    <tr>\n",
       "      <th>1</th>\n",
       "      <td>CC</td>\n",
       "      <td>-88.6</td>\n",
       "      <td>184.55</td>\n",
       "      <td>30.07</td>\n",
       "      <td>ethane</td>\n",
       "    </tr>\n",
       "    <tr>\n",
       "      <th>2</th>\n",
       "      <td>CCC</td>\n",
       "      <td>-42.1</td>\n",
       "      <td>231.05</td>\n",
       "      <td>44.10</td>\n",
       "      <td>propane</td>\n",
       "    </tr>\n",
       "    <tr>\n",
       "      <th>3</th>\n",
       "      <td>CC(C)C</td>\n",
       "      <td>-11.7</td>\n",
       "      <td>261.45</td>\n",
       "      <td>58.12</td>\n",
       "      <td>2-methylpropane</td>\n",
       "    </tr>\n",
       "    <tr>\n",
       "      <th>4</th>\n",
       "      <td>CCCC</td>\n",
       "      <td>-0.5</td>\n",
       "      <td>272.65</td>\n",
       "      <td>58.12</td>\n",
       "      <td>butane</td>\n",
       "    </tr>\n",
       "  </tbody>\n",
       "</table>\n",
       "</div>"
      ],
      "text/plain": [
       "   smiles   bp_C    BP_K     MW             Name\n",
       "0       C -164.0  109.15  16.04          methane\n",
       "1      CC  -88.6  184.55  30.07           ethane\n",
       "2     CCC  -42.1  231.05  44.10          propane\n",
       "3  CC(C)C  -11.7  261.45  58.12  2-methylpropane\n",
       "4    CCCC   -0.5  272.65  58.12           butane"
      ]
     },
     "execution_count": 14,
     "metadata": {},
     "output_type": "execute_result"
    }
   ],
   "source": [
    "df = pd.read_csv('102BP.csv')\n",
    "df.head()"
   ]
  },
  {
   "cell_type": "code",
   "execution_count": 17,
   "metadata": {},
   "outputs": [
    {
     "data": {
      "text/plain": [
       "Text(0.5, 1.0, 'Effect of MW on B.Pt')"
      ]
     },
     "execution_count": 17,
     "metadata": {},
     "output_type": "execute_result"
    },
    {
     "data": {
      "image/png": "[encoded data removed]",
      "text/plain": [
       "<Figure size 432x288 with 1 Axes>"
      ]
     },
     "metadata": {
      "needs_background": "light"
     },
     "output_type": "display_data"
    }
   ],
   "source": [
    "plt.scatter(df['MW'], df['BP_K'], label='Effect of MW on B.Pt')\n",
    "plt.xlabel('Molecular Weight (MW)')\n",
    "plt.ylabel('Boiling Point (Kelvin)')\n",
    "plt.title('Effect of MW on B.Pt')"
   ]
  },
  {
   "cell_type": "markdown",
   "metadata": {},
   "source": [
    "####  Based on the plot, there are many molecules with the same molecular weight but have different boiling point. For example: butane and isopropane will have the same MW but diff B.Pts. Thus, MWs might not be a good descriptor for B.pt\n",
    "#### Other Descriptors: Wiener index and Zagreb indices"
   ]
  },
  {
   "cell_type": "markdown",
   "metadata": {},
   "source": [
    "# 8. Calculate the Wiener and Zagreb indices for the Table"
   ]
  },
  {
   "cell_type": "code",
   "execution_count": 18,
   "metadata": {},
   "outputs": [
    {
     "name": "stdout",
     "output_type": "stream",
     "text": [
      "[0, 1, 4]\n",
      "[0.0, 2.0, 6.0]\n",
      "[0.0, 1.0, 4.0]\n"
     ]
    }
   ],
   "source": [
    "WIndex = []\n",
    "Z1Index = []\n",
    "Z2Index = []\n",
    "\n",
    "for smile in df['smiles']:\n",
    "    mol = Chem.MolFromSmiles(smile)\n",
    "    wiener_index = wiener(mol)\n",
    "    WIndex.append(wiener_index)\n",
    "    \n",
    "    zagreb_index1=zagreb1(mol)\n",
    "    Z1Index.append(zagreb_index1)\n",
    "    \n",
    "    zagreb_index2=zagreb2(mol)\n",
    "    Z2Index.append(zagreb_index2)\n",
    "    \n",
    "print(WIndex[:3])\n",
    "print(Z1Index[:3])\n",
    "print(Z2Index[:3])   "
   ]
  },
  {
   "cell_type": "code",
   "execution_count": 21,
   "metadata": {},
   "outputs": [
    {
     "data": {
      "text/html": [
       "<div>\n",
       "<style scoped>\n",
       "    .dataframe tbody tr th:only-of-type {\n",
       "        vertical-align: middle;\n",
       "    }\n",
       "\n",
       "    .dataframe tbody tr th {\n",
       "        vertical-align: top;\n",
       "    }\n",
       "\n",
       "    .dataframe thead th {\n",
       "        text-align: right;\n",
       "    }\n",
       "</style>\n",
       "<table border=\"1\" class=\"dataframe\">\n",
       "  <thead>\n",
       "    <tr style=\"text-align: right;\">\n",
       "      <th></th>\n",
       "      <th>smiles</th>\n",
       "      <th>bp_C</th>\n",
       "      <th>BP_K</th>\n",
       "      <th>MW</th>\n",
       "      <th>Name</th>\n",
       "      <th>Wiener</th>\n",
       "      <th>Z1</th>\n",
       "      <th>Z2</th>\n",
       "    </tr>\n",
       "  </thead>\n",
       "  <tbody>\n",
       "    <tr>\n",
       "      <th>0</th>\n",
       "      <td>C</td>\n",
       "      <td>-164.0</td>\n",
       "      <td>109.15</td>\n",
       "      <td>16.04</td>\n",
       "      <td>methane</td>\n",
       "      <td>0</td>\n",
       "      <td>0.0</td>\n",
       "      <td>0.0</td>\n",
       "    </tr>\n",
       "    <tr>\n",
       "      <th>1</th>\n",
       "      <td>CC</td>\n",
       "      <td>-88.6</td>\n",
       "      <td>184.55</td>\n",
       "      <td>30.07</td>\n",
       "      <td>ethane</td>\n",
       "      <td>1</td>\n",
       "      <td>2.0</td>\n",
       "      <td>1.0</td>\n",
       "    </tr>\n",
       "    <tr>\n",
       "      <th>2</th>\n",
       "      <td>CCC</td>\n",
       "      <td>-42.1</td>\n",
       "      <td>231.05</td>\n",
       "      <td>44.10</td>\n",
       "      <td>propane</td>\n",
       "      <td>4</td>\n",
       "      <td>6.0</td>\n",
       "      <td>4.0</td>\n",
       "    </tr>\n",
       "    <tr>\n",
       "      <th>3</th>\n",
       "      <td>CC(C)C</td>\n",
       "      <td>-11.7</td>\n",
       "      <td>261.45</td>\n",
       "      <td>58.12</td>\n",
       "      <td>2-methylpropane</td>\n",
       "      <td>9</td>\n",
       "      <td>12.0</td>\n",
       "      <td>9.0</td>\n",
       "    </tr>\n",
       "    <tr>\n",
       "      <th>4</th>\n",
       "      <td>CCCC</td>\n",
       "      <td>-0.5</td>\n",
       "      <td>272.65</td>\n",
       "      <td>58.12</td>\n",
       "      <td>butane</td>\n",
       "      <td>10</td>\n",
       "      <td>10.0</td>\n",
       "      <td>8.0</td>\n",
       "    </tr>\n",
       "  </tbody>\n",
       "</table>\n",
       "</div>"
      ],
      "text/plain": [
       "   smiles   bp_C    BP_K     MW             Name  Wiener    Z1   Z2\n",
       "0       C -164.0  109.15  16.04          methane       0   0.0  0.0\n",
       "1      CC  -88.6  184.55  30.07           ethane       1   2.0  1.0\n",
       "2     CCC  -42.1  231.05  44.10          propane       4   6.0  4.0\n",
       "3  CC(C)C  -11.7  261.45  58.12  2-methylpropane       9  12.0  9.0\n",
       "4    CCCC   -0.5  272.65  58.12           butane      10  10.0  8.0"
      ]
     },
     "execution_count": 21,
     "metadata": {},
     "output_type": "execute_result"
    }
   ],
   "source": [
    "df['Wiener']=WIndex\n",
    "df['Z1']=Z1Index\n",
    "df['Z2']=Z2Index\n",
    "df.head()"
   ]
  },
  {
   "cell_type": "code",
   "execution_count": 25,
   "metadata": {},
   "outputs": [
    {
     "data": {
      "text/html": [
       "<div>\n",
       "<style scoped>\n",
       "    .dataframe tbody tr th:only-of-type {\n",
       "        vertical-align: middle;\n",
       "    }\n",
       "\n",
       "    .dataframe tbody tr th {\n",
       "        vertical-align: top;\n",
       "    }\n",
       "\n",
       "    .dataframe thead th {\n",
       "        text-align: right;\n",
       "    }\n",
       "</style>\n",
       "<table border=\"1\" class=\"dataframe\">\n",
       "  <thead>\n",
       "    <tr style=\"text-align: right;\">\n",
       "      <th></th>\n",
       "      <th>smiles</th>\n",
       "      <th>Name</th>\n",
       "      <th>bp_C</th>\n",
       "      <th>BP_K</th>\n",
       "      <th>MW</th>\n",
       "      <th>Wiener</th>\n",
       "      <th>Z1</th>\n",
       "      <th>Z2</th>\n",
       "    </tr>\n",
       "  </thead>\n",
       "  <tbody>\n",
       "    <tr>\n",
       "      <th>0</th>\n",
       "      <td>C</td>\n",
       "      <td>methane</td>\n",
       "      <td>-164.0</td>\n",
       "      <td>109.15</td>\n",
       "      <td>16.04</td>\n",
       "      <td>0</td>\n",
       "      <td>0.0</td>\n",
       "      <td>0.0</td>\n",
       "    </tr>\n",
       "    <tr>\n",
       "      <th>1</th>\n",
       "      <td>CC</td>\n",
       "      <td>ethane</td>\n",
       "      <td>-88.6</td>\n",
       "      <td>184.55</td>\n",
       "      <td>30.07</td>\n",
       "      <td>1</td>\n",
       "      <td>2.0</td>\n",
       "      <td>1.0</td>\n",
       "    </tr>\n",
       "    <tr>\n",
       "      <th>2</th>\n",
       "      <td>CCC</td>\n",
       "      <td>propane</td>\n",
       "      <td>-42.1</td>\n",
       "      <td>231.05</td>\n",
       "      <td>44.10</td>\n",
       "      <td>4</td>\n",
       "      <td>6.0</td>\n",
       "      <td>4.0</td>\n",
       "    </tr>\n",
       "    <tr>\n",
       "      <th>3</th>\n",
       "      <td>CC(C)C</td>\n",
       "      <td>2-methylpropane</td>\n",
       "      <td>-11.7</td>\n",
       "      <td>261.45</td>\n",
       "      <td>58.12</td>\n",
       "      <td>9</td>\n",
       "      <td>12.0</td>\n",
       "      <td>9.0</td>\n",
       "    </tr>\n",
       "    <tr>\n",
       "      <th>4</th>\n",
       "      <td>CCCC</td>\n",
       "      <td>butane</td>\n",
       "      <td>-0.5</td>\n",
       "      <td>272.65</td>\n",
       "      <td>58.12</td>\n",
       "      <td>10</td>\n",
       "      <td>10.0</td>\n",
       "      <td>8.0</td>\n",
       "    </tr>\n",
       "  </tbody>\n",
       "</table>\n",
       "</div>"
      ],
      "text/plain": [
       "   smiles             Name   bp_C    BP_K     MW  Wiener    Z1   Z2\n",
       "0       C          methane -164.0  109.15  16.04       0   0.0  0.0\n",
       "1      CC           ethane  -88.6  184.55  30.07       1   2.0  1.0\n",
       "2     CCC          propane  -42.1  231.05  44.10       4   6.0  4.0\n",
       "3  CC(C)C  2-methylpropane  -11.7  261.45  58.12       9  12.0  9.0\n",
       "4    CCCC           butane   -0.5  272.65  58.12      10  10.0  8.0"
      ]
     },
     "execution_count": 25,
     "metadata": {},
     "output_type": "execute_result"
    }
   ],
   "source": [
    "df = df[['smiles'] + ['Name'] + [col for col in df.columns if col!='smiles' and col!='Name']]\n",
    "df.head()"
   ]
  },
  {
   "cell_type": "markdown",
   "metadata": {},
   "source": [
    "# 9. Plot Wiener, Z1, Z2 vs BP"
   ]
  },
  {
   "cell_type": "code",
   "execution_count": 27,
   "metadata": {},
   "outputs": [
    {
     "data": {
      "text/plain": [
       "Text(0, 0.5, 'Boiling Point (K)')"
      ]
     },
     "execution_count": 27,
     "metadata": {},
     "output_type": "execute_result"
    },
    {
     "data": {
      "image/png": "[encoded data removed]",
      "text/plain": [
       "<Figure size 432x288 with 1 Axes>"
      ]
     },
     "metadata": {
      "needs_background": "light"
     },
     "output_type": "display_data"
    }
   ],
   "source": [
    "plt.scatter(df['Wiener'], df['BP_K'])\n",
    "plt.xlabel('Wiener Index')\n",
    "plt.ylabel('Boiling Point (K)')"
   ]
  },
  {
   "cell_type": "code",
   "execution_count": 29,
   "metadata": {},
   "outputs": [
    {
     "data": {
      "text/plain": [
       "Text(0, 0.5, 'Boiling Point (K)')"
      ]
     },
     "execution_count": 29,
     "metadata": {},
     "output_type": "execute_result"
    },
    {
     "data": {
      "image/png": "[encoded data removed]",
      "text/plain": [
       "<Figure size 432x288 with 1 Axes>"
      ]
     },
     "metadata": {
      "needs_background": "light"
     },
     "output_type": "display_data"
    }
   ],
   "source": [
    "plt.scatter(df['Z1'], df['BP_K'])\n",
    "plt.xlabel('Z1')\n",
    "plt.ylabel('Boiling Point (K)')"
   ]
  },
  {
   "cell_type": "code",
   "execution_count": 30,
   "metadata": {},
   "outputs": [
    {
     "data": {
      "text/plain": [
       "Text(0, 0.5, 'Boiling Point (K)')"
      ]
     },
     "execution_count": 30,
     "metadata": {},
     "output_type": "execute_result"
    },
    {
     "data": {
      "image/png": "[encoded data removed]",
      "text/plain": [
       "<Figure size 432x288 with 1 Axes>"
      ]
     },
     "metadata": {
      "needs_background": "light"
     },
     "output_type": "display_data"
    }
   ],
   "source": [
    "plt.scatter(df['Z2'], df['BP_K'])\n",
    "plt.xlabel('Z2')\n",
    "plt.ylabel('Boiling Point (K)')"
   ]
  },
  {
   "cell_type": "markdown",
   "metadata": {},
   "source": [
    "# 10. Perform OLS using statsmodels"
   ]
  },
  {
   "cell_type": "code",
   "execution_count": 32,
   "metadata": {},
   "outputs": [
    {
     "name": "stdout",
     "output_type": "stream",
     "text": [
      "                            OLS Regression Results                            \n",
      "==============================================================================\n",
      "Dep. Variable:                   BP_K   R-squared:                       0.990\n",
      "Model:                            OLS   Adj. R-squared:                  0.989\n",
      "Method:                 Least Squares   F-statistic:                     2363.\n",
      "Date:                Sun, 13 Dec 2020   Prob (F-statistic):           1.04e-95\n",
      "Time:                        20:04:55   Log-Likelihood:                -319.93\n",
      "No. Observations:                 102   AIC:                             649.9\n",
      "Df Residuals:                      97   BIC:                             663.0\n",
      "Df Model:                           4                                         \n",
      "Covariance Type:            nonrobust                                         \n",
      "==============================================================================\n",
      "                 coef    std err          t      P>|t|      [0.025      0.975]\n",
      "------------------------------------------------------------------------------\n",
      "const         65.9927      5.533     11.927      0.000      55.011      76.974\n",
      "MW             4.1729      0.126     33.073      0.000       3.922       4.423\n",
      "Wiener        -0.6363      0.043    -14.716      0.000      -0.722      -0.550\n",
      "Z1            -5.0035      0.543     -9.209      0.000      -6.082      -3.925\n",
      "Z2             1.4548      0.375      3.881      0.000       0.711       2.199\n",
      "==============================================================================\n",
      "Omnibus:                       12.243   Durbin-Watson:                   1.318\n",
      "Prob(Omnibus):                  0.002   Jarque-Bera (JB):               26.433\n",
      "Skew:                          -0.366   Prob(JB):                     1.82e-06\n",
      "Kurtosis:                       5.384   Cond. No.                     1.66e+03\n",
      "==============================================================================\n",
      "\n",
      "Notes:\n",
      "[1] Standard Errors assume that the covariance matrix of the errors is correctly specified.\n",
      "[2] The condition number is large, 1.66e+03. This might indicate that there are\n",
      "strong multicollinearity or other numerical problems.\n"
     ]
    }
   ],
   "source": [
    "import statsmodels.api as sm\n",
    "\n",
    "X = df[['MW', 'Wiener', 'Z1', 'Z2']]\n",
    "X = sm.add_constant(X)\n",
    "y = df['BP_K']\n",
    "model = sm.OLS(y,X).fit()\n",
    "print(model.summary())"
   ]
  },
  {
   "cell_type": "markdown",
   "metadata": {},
   "source": [
    "# 11. Partial Regression Plots from Statsmodel graphics"
   ]
  },
  {
   "cell_type": "code",
   "execution_count": 35,
   "metadata": {},
   "outputs": [
    {
     "data": {
      "image/png": "[encoded data removed]",
      "text/plain": [
       "<Figure size 720x576 with 5 Axes>"
      ]
     },
     "metadata": {
      "needs_background": "light"
     },
     "output_type": "display_data"
    }
   ],
   "source": [
    "fig = plt.figure(figsize=(10,8))\n",
    "fig = sm.graphics.plot_partregress_grid(model, fig=fig)"
   ]
  },
  {
   "cell_type": "markdown",
   "metadata": {},
   "source": [
    "# 12. Predicted values of BP from model"
   ]
  },
  {
   "cell_type": "code",
   "execution_count": 33,
   "metadata": {},
   "outputs": [
    {
     "data": {
      "text/plain": [
       "0      132.925748\n",
       "1      182.282865\n",
       "2      223.270097\n",
       "3      255.845716\n",
       "4      263.761624\n",
       "          ...    \n",
       "97     435.623421\n",
       "98     436.546227\n",
       "99     442.637083\n",
       "100    439.189815\n",
       "101    435.742546\n",
       "Length: 102, dtype: float64"
      ]
     },
     "execution_count": 33,
     "metadata": {},
     "output_type": "execute_result"
    }
   ],
   "source": [
    "predicted = model.predict(X)\n",
    "predicted"
   ]
  },
  {
   "cell_type": "markdown",
   "metadata": {},
   "source": [
    "# 13. Compare the Predicted BP with df[BP_K] using statsmodels\n"
   ]
  },
  {
   "cell_type": "code",
   "execution_count": 36,
   "metadata": {},
   "outputs": [
    {
     "data": {
      "text/plain": [
       "Text(0, 0.5, 'Predicted BP')"
      ]
     },
     "execution_count": 36,
     "metadata": {},
     "output_type": "execute_result"
    },
    {
     "data": {
      "image/png": "[encoded data removed]",
      "text/plain": [
       "<Figure size 432x288 with 1 Axes>"
      ]
     },
     "metadata": {
      "needs_background": "light"
     },
     "output_type": "display_data"
    }
   ],
   "source": [
    "plt.scatter(df['BP_K'], predicted)\n",
    "plt.xlabel('Actual BP')\n",
    "plt.ylabel('Predicted BP')"
   ]
  },
  {
   "cell_type": "code",
   "execution_count": 37,
   "metadata": {},
   "outputs": [
    {
     "name": "stdout",
     "output_type": "stream",
     "text": [
      "                                 OLS Regression Results                                \n",
      "=======================================================================================\n",
      "Dep. Variable:                      y   R-squared (uncentered):                   1.000\n",
      "Model:                            OLS   Adj. R-squared (uncentered):              1.000\n",
      "Method:                 Least Squares   F-statistic:                          5.216e+05\n",
      "Date:                Sun, 13 Dec 2020   Prob (F-statistic):                   2.43e-189\n",
      "Time:                        20:25:59   Log-Likelihood:                         -319.92\n",
      "No. Observations:                 102   AIC:                                      641.8\n",
      "Df Residuals:                     101   BIC:                                      644.5\n",
      "Df Model:                           1                                                  \n",
      "Covariance Type:            nonrobust                                                  \n",
      "==============================================================================\n",
      "                 coef    std err          t      P>|t|      [0.025      0.975]\n",
      "------------------------------------------------------------------------------\n",
      "BP_K           0.9998      0.001    722.241      0.000       0.997       1.003\n",
      "==============================================================================\n",
      "Omnibus:                       12.075   Durbin-Watson:                   1.318\n",
      "Prob(Omnibus):                  0.002   Jarque-Bera (JB):               25.831\n",
      "Skew:                           0.362   Prob(JB):                     2.46e-06\n",
      "Kurtosis:                       5.357   Cond. No.                         1.00\n",
      "==============================================================================\n",
      "\n",
      "Notes:\n",
      "[1] R² is computed without centering (uncentered) since the model does not contain a constant.\n",
      "[2] Standard Errors assume that the covariance matrix of the errors is correctly specified.\n"
     ]
    }
   ],
   "source": [
    "compare = sm.OLS(predicted, df['BP_K']).fit()\n",
    "print(compare.summary())"
   ]
  },
  {
   "cell_type": "code",
   "execution_count": null,
   "metadata": {},
   "outputs": [],
   "source": []
  }
 ],
 "metadata": {
  "kernelspec": {
   "display_name": "Python 3 (ipykernel)",
   "language": "python",
   "name": "python3"
  },
  "language_info": {
   "codemirror_mode": {
    "name": "ipython",
    "version": 3
   },
   "file_extension": ".py",
   "mimetype": "text/x-python",
   "name": "python",
   "nbconvert_exporter": "python",
   "pygments_lexer": "ipython3",
   "version": "3.7.12"
  }
 },
 "nbformat": 4,
 "nbformat_minor": 4
}
